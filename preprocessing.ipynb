{
 "cells": [
  {
   "cell_type": "markdown",
   "id": "cef53c23",
   "metadata": {},
   "source": [
    "# Data cleaning for non vege recipes"
   ]
  },
  {
   "cell_type": "code",
   "execution_count": null,
   "id": "55b41670",
   "metadata": {},
   "outputs": [],
   "source": [
    "import pandas as pd\n",
    "import requests\n",
    "from pathlib import Path\n",
    "import json\n",
    "from src.utils import *"
   ]
  },
  {
   "cell_type": "code",
   "execution_count": 2,
   "id": "a1ff82b8",
   "metadata": {},
   "outputs": [],
   "source": [
    "DATA_DIR = Path(\"data\")\n",
    "RECIPES_FILE = DATA_DIR / \"recipes_non_vege.json\"\n",
    "ECV_FILE = DATA_DIR / \"impact_co2.json\"\n",
    "OUTPUT_FILE = DATA_DIR / \"recipes_non_vege_with_ecv.json\"\n",
    "\n",
    "AGRIBALYSE_API_URL = \"https://impactco2.fr/api/v1/alimentation?category=group&language=fr\""
   ]
  },
  {
   "cell_type": "markdown",
   "id": "2b420ed5",
   "metadata": {},
   "source": [
    "#### Get the raw recipes dataset"
   ]
  },
  {
   "cell_type": "code",
   "execution_count": 3,
   "id": "267cdb98",
   "metadata": {},
   "outputs": [
    {
     "data": {
      "text/plain": [
       "2037"
      ]
     },
     "execution_count": 3,
     "metadata": {},
     "output_type": "execute_result"
    }
   ],
   "source": [
    "with open(RECIPES_FILE, \"r\", encoding=\"utf-8\") as f:\n",
    "    recipes = json.load(f)\n",
    "\n",
    "len(recipes)"
   ]
  },
  {
   "cell_type": "markdown",
   "id": "6185e693",
   "metadata": {},
   "source": [
    "#### Get the Agribalyse API"
   ]
  },
  {
   "cell_type": "code",
   "execution_count": 4,
   "id": "14917f3b",
   "metadata": {},
   "outputs": [],
   "source": [
    "if not (ECV_FILE).exists():\n",
    "    response = requests.get(AGRIBALYSE_API_URL)\n",
    "    if response.status_code == 200:\n",
    "        ecv_data = response.json()  # converts the response to a Python dictionary\n",
    "        with open(DATA_DIR / \"impact_co2.json\", \"w\", encoding=\"utf-8\") as f:\n",
    "            json.dump(ecv_data, f, ensure_ascii=False, indent=4)\n",
    "else:\n",
    "    with open(ECV_FILE, \"r\", encoding=\"utf-8\") as f:\n",
    "        ecv_data = json.load(f)"
   ]
  },
  {
   "cell_type": "code",
   "execution_count": 5,
   "id": "2fd8d67c",
   "metadata": {},
   "outputs": [],
   "source": [
    "# Flatten CO2 reference to a dict: slug -> ecv\n",
    "ecv_dict = {}\n",
    "for category in ecv_data[\"data\"]:\n",
    "    for item in category[\"items\"]:\n",
    "        ecv_dict[item[\"slug\"].lower()] = item[\"ecv\"]"
   ]
  },
  {
   "cell_type": "markdown",
   "id": "030c53e2",
   "metadata": {},
   "source": [
    "## 1. Filter all ingredients which doesn't exist in Agribalyse database"
   ]
  },
  {
   "cell_type": "code",
   "execution_count": 6,
   "id": "8c7e5894",
   "metadata": {},
   "outputs": [
    {
     "name": "stdout",
     "output_type": "stream",
     "text": [
      "1782\n"
     ]
    }
   ],
   "source": [
    "filtered_recipes = filter_recipes_based_on_ecv(recipes, ecv_dict)\n",
    "print(len(filtered_recipes))"
   ]
  },
  {
   "cell_type": "markdown",
   "id": "33607903",
   "metadata": {},
   "source": [
    "## 2.Filter all vegetarian recipes"
   ]
  },
  {
   "cell_type": "code",
   "execution_count": 7,
   "id": "bf221fca",
   "metadata": {},
   "outputs": [
    {
     "name": "stdout",
     "output_type": "stream",
     "text": [
      "1190\n"
     ]
    }
   ],
   "source": [
    "filtered_recipes = filter_recipes(filtered_recipes, ecv_data, is_vege=False)\n",
    "print(len(filtered_recipes))"
   ]
  },
  {
   "cell_type": "code",
   "execution_count": 8,
   "id": "3836e24b",
   "metadata": {},
   "outputs": [],
   "source": [
    "# Check\n",
    "with open(OUTPUT_FILE, \"w\", encoding=\"utf-8\") as f:\n",
    "    json.dump(filtered_recipes, f, ensure_ascii=False, indent=4)"
   ]
  },
  {
   "cell_type": "code",
   "execution_count": 9,
   "id": "45622efc",
   "metadata": {},
   "outputs": [
    {
     "data": {
      "text/plain": [
       "169"
      ]
     },
     "execution_count": 9,
     "metadata": {},
     "output_type": "execute_result"
    }
   ],
   "source": [
    "# Check unique ingredients in all recipes\n",
    "unique_ing = get_unique_ingredients(filtered_recipes)\n",
    "len(unique_ing)"
   ]
  },
  {
   "cell_type": "markdown",
   "id": "dc21b409",
   "metadata": {},
   "source": [
    "## 3.Standalize the Unity et Quantity"
   ]
  },
  {
   "cell_type": "code",
   "execution_count": 10,
   "id": "0ccecccc",
   "metadata": {},
   "outputs": [
    {
     "data": {
      "text/plain": [
       "1190"
      ]
     },
     "execution_count": 10,
     "metadata": {},
     "output_type": "execute_result"
    }
   ],
   "source": [
    "filtered_recipes = normalize_ingredients(filtered_recipes)\n",
    "len(filtered_recipes)"
   ]
  },
  {
   "cell_type": "code",
   "execution_count": 11,
   "id": "5e1978d8",
   "metadata": {},
   "outputs": [
    {
     "data": {
      "text/plain": [
       "1079"
      ]
     },
     "execution_count": 11,
     "metadata": {},
     "output_type": "execute_result"
    }
   ],
   "source": [
    "# filter vege\n",
    "filtered_recipes = filter_recipes(filtered_recipes, ecv_data, is_vege=False)\n",
    "len(filtered_recipes)"
   ]
  },
  {
   "cell_type": "code",
   "execution_count": 12,
   "id": "0e374521",
   "metadata": {},
   "outputs": [],
   "source": [
    "# Check\n",
    "with open(OUTPUT_FILE, \"w\", encoding=\"utf-8\") as f:\n",
    "    json.dump(filtered_recipes, f, ensure_ascii=False, indent=4)"
   ]
  },
  {
   "cell_type": "code",
   "execution_count": 13,
   "id": "3fe8d6e8",
   "metadata": {},
   "outputs": [
    {
     "data": {
      "text/plain": [
       "149"
      ]
     },
     "execution_count": 13,
     "metadata": {},
     "output_type": "execute_result"
    }
   ],
   "source": [
    "# Check unique ingredients in all recipes\n",
    "unique_ing = get_unique_ingredients(filtered_recipes)\n",
    "len(unique_ing)"
   ]
  },
  {
   "cell_type": "code",
   "execution_count": 14,
   "id": "24082a6e",
   "metadata": {},
   "outputs": [
    {
     "name": "stdout",
     "output_type": "stream",
     "text": [
      "Total unique ingredients: 102\n",
      "[{'ingredient_name': 'poulet', 'quantity': 1.0, 'recipes': ['Pot-au-feu du Vénézuéla', 'Poulet au four simple et savoureux', 'Poulet rôti et ses pommes de terre', 'Poulet basquaise', 'Poulet rôti en cocotte au four', 'Poulet aux olives vertes', 'Poulet à la crème et fricassée de girolles', 'Poulet portugais', 'poulet rôti à la broche à ma façon', 'Poulet farci de ma grand-mère', 'Poulet de Bresse au vin jaune et aux morilles', 'poulet au cidre', \"Poulet au Champagne et à l'estragon\", 'Poulet au Four en RomerTopf', \"Poulet rôti au citron et à l'ail\", 'Poulet sauté sauce chasseur', 'Poulet aux légumes en sac de cuisson au four', 'Poulet poché puis rôti', 'Poulet au four et ses légumes', 'Poulet rôti croustillant et moelleux de ma grand-mère', 'Poulet coco réunionnais', 'Poulet aux girolles et crème', 'Poulet gingembre citron', 'Poulet et saucisses en sauce paprika', 'cari de poulet', \"Poulet rôti au thym et à l'ail sauce vin rouge\", 'Poulet rôti à la marocaine (recette facile mais bonne)', 'Poulet rôti au miel et aux épices', 'Poulet aux olives au four', 'Poulet au champignons', 'Poulet à la sauce blanche aux oignons', 'Poulet rôti mariné façon Nathalie', 'Poulet en sauce aux asperges', 'Poulet sans crème', 'Curry de poulet aux pommes', 'Poulet au citron en cocotte', 'Poulet farci au foie gras', \"Poulet à l'estragon à la mijoteuse électrique\", 'Poulet rôti aux patates douces', 'Chou fleur et pommes de terres en gratin aux restes de poulet rôti', 'Poulet au cidre rapide', 'Poulet au curry et aux poivrons', 'Poulet à la moutarde par Laurent Mariotte', 'Coq en pâte', 'Fricassée de poulet au vin blanc', 'Poulet sauce curry', \"Poulet rôti à l'orientale\", 'Doro Wat ou Poulet en sauce (Ethiopie)', 'Poulet au cidre et aux pommes', 'poulet en sauce piquante (chtitha djedj)', 'Poulet rôti aux herbes', \"Poulet à l'estragon et au cognac\", 'Poulet en sauce (à la haïtienne)', 'Poulet au citron et au bouillon de légumes', 'Curry de poulet et pommes de terre au lait de coco', \"Poulet rôti au four à l'estragon\", 'Poulet fermier farci aux châtaignes', 'Poulet aux olives, au citron et aux épices', 'Poulet roti champignons-olives', 'Poulet rôti farci à la marocaine', \"Poulet rôti à l'estragon\", 'Poulet Rôti façon Mandine', 'Poulet basquaise à la cocotte', 'Curry de poulet aux fruits verts', 'Poulet à la moutarde, miel, citron et thym', \"Poulet mariné au four (au petit gout d'été)\", 'Poulet rôti citron moutarde', 'Volaille rôtie, parfumée et moelleuse', 'Poulet rôti au Boursin au poivre', 'Poulet à la crème', 'Poulet aux champignons et olives', 'Poulet du Jura au comté et champignons', 'Poulet en cocotte aux lardons et champignons', 'Poulet rôti aux herbes et citron confit']}, {'ingredient_name': 'tomates pelées', 'quantity': 1.0, 'recipes': ['Pot-au-feu du Vénézuéla', 'Sauté de porc au curry, tomates et champignons', 'Rôti de porc aux champignons']}, {'ingredient_name': 'moules', 'quantity': 1.0, 'recipes': [\"Gâteau à la banane léger et simple d'Anaïs\", 'Tarte au café et au sucre roux (vergeoise, cassonade)', 'Danois', 'Préparation pour muffins légers et fondants', 'Crème aux oeufs légère de Paquita']}, {'ingredient_name': 'crevettes roses', 'quantity': 10.0, 'recipes': ['Salade légère et rafraîchissante', 'Queue de lotte au lait de coco et curry']}, {'ingredient_name': 'avocat', 'quantity': 1.0, 'recipes': ['Salade légère et rafraîchissante']}, {'ingredient_name': 'travers de porc', 'quantity': 4.0, 'recipes': ['travers de porc  à la vergeoise brune', 'Travers de porc miel et moutarde']}, {'ingredient_name': 'oignons nouveaux', 'quantity': 2.0, 'recipes': ['Porc à la sichuanaise', 'Rôti de porc en sauce légère', 'Bavette cuite au four et aux oignons', 'Curry de poulet et pommes de terre au lait de coco', \"Steak tartare à l'italienne : tomate séchée et mozzarella\", 'Porridge riz et poulet (congee ou jook)', 'Travers de porc printanier']}, {'ingredient_name': 'escalopes de porc', 'quantity': 2.0, 'recipes': ['Sandwich japonais au porc pané (katsu sando)', 'Escalopes de porc automnales']}, {'ingredient_name': 'galettes de riz', 'quantity': 12.0, 'recipes': ['Nems au airfryer']}, {'ingredient_name': 'rôti de porc', 'quantity': 1.0, 'recipes': ['Rôti de porc en sauce légère', 'Rôti de porc tout simple', 'Potée au choux et saucisse de Morteau', 'Roti de Porc fondant', 'Rôti de porc : recette savoureuse', \"Rôti de porc à l'ail et au thym, rattes au four\", 'Rôti de porc sauce fond de veau', 'Rôti de porc aux pruneaux', 'Rôti de porc moelleux au lait', 'Rôti de porc en cocotte minute', \"rôti de porc en terrine 'basse température'\", 'Rôti de porc fumé', 'Rôti de porc confit', 'Rôti de porc au miel et aux pommes', 'Rôti de porc en cocotte à la moutarde', 'Rôti de porc aux champignons et petits lardons', 'Rôti de porc au petits légumes', 'Rôti de porc au cidre', 'Rôti de porc pruneaux carottes', 'Rôti de porc aux pickels', 'Rôti de porc mariné au cidre doux', 'Rôti de porc au cidre doux', 'Rôti de porc à la casserole facile', 'Rôti de porc et légumes en cocotte', 'Rôti de porc aux carottes', 'Conserve de rôti de porc', 'Rôti de porc aux oignons et au lait', 'Rôti de porc au lait', 'Rôti de porc boulangère', 'Rôti de porc au miel et à la moutarde au Thermomix', 'Rôti de porc aux champignons frais sauce moutarde', 'Rôti de porc aux épices et aux oignons', \"Rôti de porc à l'ail et aux olives\", 'Rôti de porc à la tomate', 'Roti de porc en gelée', 'Rôti de porc à la crème à la moutarde', \"Rôti de porc au lait de coco d'Elvire\", 'Rôti de porc aux oignons et carottes', 'Rôti de porc au miel et sauce soja sucrée', 'Rôti de porc aux champignons', 'Rôti de porc aux oignons', 'Rôti de porc accompagné de chou rouge (façon Narriman)', 'Rôti de porc aux oignons et au miel', 'rôti de porc en Romertopf', \"roti de porc, petits pois, carottes, pommes de terre  (frich'ti)\", 'Rôti de porc aux salsifis en cocotte', 'Rôti de porc au curry', 'Rôti de porc cuit dans une sauce moutarde', 'Rôti de porc Orloff sauce forestière', 'rôti de porc aux navets', \"Rôti de porc à l'orange\", 'Rôti de Porc au fromage']}, {'ingredient_name': 'cuisses de lapin', 'quantity': 2.0, 'recipes': ['Lapin léger en cocotte', 'Cuisses de lapin aux champignons', 'Lapin au vin blanc', \"Cuisse de lapin à la moutarde à l'ancienne en papillote\", 'Lapin à la moutarde au thym et à la crème', 'Paupiettes de lapin laquées', 'cuisse de lapin en papillote au barbecue', 'Lapin moutarde express pour deux']}, {'ingredient_name': 'boeuf haché', 'quantity': 5.0, 'recipes': ['Moussaka légère (à ma façon)', 'Lasagnes légères au boeuf']}, {'ingredient_name': 'magrets de canard', 'quantity': 2.0, 'recipes': [\"Magrets de canard aux saveurs orientales et son confit d'oignons\", 'CANARD LAQUÉ AUX GRAINES DE SÉSAME (Recette légère)', 'Magrets de canard sauce grand veneur', 'Magrets de canard aux poires, sauce au cassis', 'Magret de canard au four', 'Magrets de canard rôtis au miel et au vinaigre de cidre', 'Magret de canard mariné au four', 'Magret de canard sauce foie gras', \"Magrets de canard à l'orange\", 'Magrets de canard à tomber par terre', 'Magret de canard aux pommes', 'Magret de canard sauce miel-orange', 'Magret de canard aux figues noires', 'Magrets de canard sauce au miel', 'Magrets de canard au miel au Cookeo', 'Rôti de magret de canard au foie gras', 'Tournedos de magrets de canard au porto', 'Magrets de canard laqués aux épices', 'terrine de canard au foie gras', 'Magrets de canard aux  pêches et aux épices', 'Magret de canard au miel, sauce soja et pommes', 'Rôti de magrets de canard à la moutarde', \"Magret de canard au miel, pomme de terre et oignon à l'ail\", \"Brochette de canard  mariné à l'orange\", 'Magret farci au foie gras', 'Paupiettes de canard au foie gras', 'Magrets de canard aux fruits rouges', 'Magret de canard aux épices, figues rôties au miel et Porto', 'Magret de canard sauce au vin rouge', 'Magret de canard au vinaigre balsamique', 'Rôti de magrets farci au foie gras confit', 'Bourguignon de canard', 'Magrets de canard sauce soja et vinaigre', 'magrets de canard aux navets caramélisés au vinaigre balsamique', 'Rôti de magrets, farci aux cèpes et girolles', 'Magrets de canard en croûte', 'Magrets de Canard au poivre vert et aux poivrons', 'Magrets de canard au café', 'Rôti de magret ou filet de canard aux abricots secs', 'Magret de canard aux fruits secs', 'Magrets de canard au miel au Thermomix', 'Magrets de canard au miel faciles', 'Magret de canard au cidre', 'Magrets de canard aux griottes', 'Magrets de canard et pêches rôties', \"Magrets aux pruneaux flambés à l'armagnac\", \"Magret de canard aux navets caramélisés au jus d'orange\", 'Magrets de canard aux pommes et oignons confits', \"Magret de canard à la compotine de pommes et d'oranges\", 'Magret de canard sauce moutarde']}, {'ingredient_name': 'saumon', 'quantity': 1.0, 'recipes': ['Darnes de saumon légères et faciles', \"Gravad laks de saumon et sauce d'accompagnement\", 'Endives braisées à la bière et darnes de saumon rose', 'Saumon et fruits de mer au curry']}, {'ingredient_name': 'crevettes', 'quantity': 6.0, 'recipes': ['Tomates farcies ultra-légères au chou-fleur']}, {'ingredient_name': 'saumon fumé', 'quantity': 1.0, 'recipes': ['Quiche légère aux courgettes et au saumon']}, {'ingredient_name': 'yaourt nature', 'quantity': 1.0, 'recipes': ['Quiche légère aux courgettes et au saumon', 'Poulet Shahi korma', 'Curry de poulet antillais aux bananes', 'Curry de poulet et pommes de terre au lait de coco et yaourt', 'Poulet Tandoori', 'Tendresse de poulet et sa sauce acidulée', 'Curry de poulet pistaches et noix de coco (rencontres Marmiton 2)']}, {'ingredient_name': 'mangues', 'quantity': 2.0, 'recipes': ['Verrines poulet-mangues', 'Curry de poulet aux mangues']}, {'ingredient_name': 'carottes', 'quantity': 2.0, 'recipes': ['Blanquette de veau facile au Cookeo', 'Blanquette de veau : recette traditionnelle', 'Sauté de porc à la crème de moutarde', 'Tête de veau à la vinaigrette', 'Coq au vin maison', 'Veau Marengo maison', 'Filet mignon de porc fondant en cocotte', 'Cuissot Chevreuil à préparer la veille', 'Poulet en sauce à ma façon', 'Tripes à la mode de Caen', \"Blanquette de veau à l'ancienne\", 'Lapin sauce chasseur', 'Rôti de porc sauce fond de veau', 'Langue de boeuf aux petits légumes, sauce Madère', 'Boudin blanc maison', 'Blanquette de veau express à la cocotte minute', 'Joues de porc en cocotte', 'Sauté de porc avec carottes et pommes de terre', 'Lapin au cidre', 'Blanquette de veau facile au Thermomix', 'Poulet en cocotte minute au curry et ses légumes', 'Sauté de poulet aux carottes à la crème de moutarde', 'Osso bucco de veau au Cookeo', 'Rôti de veau Orloff', 'Poulet aux légumes en sac de cuisson au four', 'Paupiettes de veau au vin blanc', 'Rôti de veau cuisson lente', 'Sauté de veau facile aux légumes', 'Blanquette de veau facile et légère', 'Langue de veau au court-bouillon gratinée', 'Tête de veau sauce moi', 'Joues de porc mijotées au vin rouge', 'Daube niçoise', 'Joues de porc façon daube', 'Soupe turque aigre douce aux boulettes (eksili köfte)', 'joues de porc mijotées aux légumes', 'Curry de poulet (sans crème ni lait de coco)', 'Cà ri gà( curry de poulet vietnamien)', 'Mijoté de boeuf au Cookeo', 'Osso bucco de veau au vin blanc', 'Rôti de porc pruneaux carottes', 'Blanquette de veau traditionnelle', 'Sauté de Sanglier', 'Cuisses de poulet aux champignons et à la moutarde', 'Sauté de porc aux légumes facile', 'Lapin succulent aux pruneaux', 'Bourguignon délicieux', 'Boeuf bourguignon débutant', 'Mijoté de boeuf au Thermomix', 'Daube de biche', 'Cuisse de poulet confit à la provençale et compotée de légumes printaniers', 'Blanquette de veau facile au Companion', \"Lapin aux pruneaux d'Agen\", 'Rôti de porc et légumes en cocotte', 'Boeuf bourguignon aux olives', 'Poulet sauté aux légumes (shop suey)', 'Blanquette de veau facile au Monsieur Cuisine', 'Lapin facile à la moutarde', 'Paupiettes au vin blanc', 'Blanquette de veau (de Marielle)', 'Rôti de porc aux carottes et navets', 'Poulet rôti aux patates douces', 'Rôti de porc sauce venaison', 'Emincé de poulet et légumes', \"Ris de veau à l'ancienne\", 'Cuisse de canard confite au cidre', 'Osso bucco de veau au Thermomix', 'Sauté de veau aux petits pois', 'Daube de boeuf à la graisse de canard', 'Poulet aux champignons et carottes hyper léger', 'Emincé de poulet aux carottes et olives', 'Boeuf bourguignon express', 'Sauté de porc à la moutarde et au cidre', 'Noix de joue de porc aux champignons', 'Lapin à la crème façon Anne', 'Blanquette de veau facile au Cooking Chef', 'Rôti de porc aux oignons et carottes', 'Cuisses de canard aux carottes, champignons et pruneaux', 'Ris de veau aux petits légumes', 'blanquette de veau au micro-ondes', 'Cuisses de poulet provençales', 'Pot au feu au foie gras', 'Blanquette de veau de ma mamie', 'Poulet coco citronnelle (6ème rencontre)', 'Poulet aux carottes et à la crème de curry', 'Sauté de porc à la moutarde', 'Boeuf colombo façon bourguignon', 'Poulet au citron confit et ses légumes', 'Boulettes de bœuf aux légumes poêlés', 'Blanquette de poulet vite faite', 'Sauté de veau aux topinambours', 'Blanquette de veau sauce pickles', 'Lapin au cidre à ma façon', 'Osso bucco de veau au Cooking Chef', 'Mijoté de boeuf au Companion', 'Mijoté de boeuf au Monsieur Cuisine', 'joue de porc à ma façon', 'Oie farcie et sa sauce au cidre', 'Blanquette de veau de la Baronne', 'Daube de boeuf de Sophie', 'Rôti de porc Orloff sauce forestière', 'Boeuf bourguignon simple', \"Blanquette de veau à l'ancienne (auto-cuiseur)\", 'Cuisses de poulet, carottes et pommes de terre', 'Blanquette de veau à ma façon', 'Rôti de porc aux artichauts', 'Escalopes de veau aux petits légumes du jardin', 'Soupe au sirop de Liège et boulettes de boeuf', 'Travers de porc printanier', 'Joues de porc braisées', 'Magret de canard sauce moutarde', 'Tripes au cidre et au Calvados', 'Sauté de veau au paprika']}, {'ingredient_name': 'beurre doux', 'quantity': 10.0, 'recipes': ['Blanquette de veau facile au Cookeo', 'Blanquette de veau facile au Thermomix', 'Blanquette de veau facile au Companion', 'Blanquette de veau facile au Monsieur Cuisine', 'Blanquette de veau facile au Cooking Chef']}, {'ingredient_name': \"jaunes d'oeuf\", 'quantity': 2.0, 'recipes': ['Blanquette de veau facile au Cookeo', \"Blanquette de veau à l'ancienne\", 'Blanquette de veau express à la cocotte minute', 'Emincé de poulet au curry et à la crème', 'Blanquette de veau facile au Thermomix', 'tête de veau sauce ravigote', 'Blanquette de veau maison', 'Aiguillettes de poulet panées à la moutarde et au miel', 'Poulet aux girolles et crème', 'Blanquette de veau traditionnelle', 'Ma terrine de porc et foie de volaille', 'Rôti de boeuf en croûte au foie gras et girolles', 'Blanquette de veau facile au Companion', 'Blanquette de veau facile au Monsieur Cuisine', 'Blanquette de lapin au riesling et aux girolles', 'blanquette de lotte au safran', 'Côte de boeuf, sauce onctueuse aux herbes', \"Poulet à l'estragon et au cognac\", 'Blanquette de veau facile au Cooking Chef', 'Blanquette de veau de ma mamie', 'Blanquette de veau', \"Blanquette de veau à l'ancienne (auto-cuiseur)\", 'Lapin, sauce crémeuse au porto', 'Poulet à la crème']}, {'ingredient_name': 'blancs de poulet', 'quantity': 2.0, 'recipes': ['Poulet aux quatre C (citron, cumin, cannelle, coriandre)', 'Poulet curry et oignons facile', 'Vol-au-vent aux blancs de poulet', 'Délicieuse marinade pour poulet', 'Poulet Tandoori (Masala)', 'Emincé de poulet au citron facile', 'Suprêmes de volaille à la crème citronnée', 'Dés de poulet caramélisés et graines de sésame', 'Poulet Massala', \"Poulet à l'estragon\", 'Poulet curry et oignons facile au Cookeo', 'Poulet mariné à la sauce soja', 'Emincé de Poulet aux trois Poivrons', 'Chicken burger', 'Poulet sauté aux brocolis', 'Marinade de poulet au citron vert', 'Brochettes de poulet express aux épices', 'Blancs de poulet a la crème et aux champignons', 'Poulet caramélisé au miel et sauce soja', 'Souvlakis grecs', 'Tarte poulet et champignons', 'Emincés de poulet sauce moutarde', 'Blanc de poulet aux endives, champignon et lardons au Cookeo', 'Blancs de poulet minceur à ma façon', 'Poulet au curry et chorizo', 'Poulet à la sauce au parmesan', \"Poulet à la moutarde, à l'estragon et aux champignons\", 'Poulet coco ananas', 'Poulet forestier à la crème', 'Poulet pané au parmesan, sauce tomate poivron', 'Suprêmes de volaille aux morilles', 'Blancs de poulet surprenants', 'Poulet au curry et aux pommes', 'Blancs de poulet sauce miel et balsamique', 'Brochettes de poulet au miel, au barbecue', 'Blancs de poulet au chou', 'Emincé de poulet aux tomates séchées', 'Curry de poulet au yaourt', 'Poulet curry et oignons facile au Monsieur Cuisine', 'Blancs de poulet grillés et parpadelle express', 'Soupe de lentilles corail au poulet et au lait de coco', 'Ballotine de poulet au jambon et aux champignons', 'Saltimbocca alla romana de Léna', \"Paupiettes de poulet aux olives et feuilles de blettes à l'italienne\", 'Blancs de poulet au lait de coco', 'Poulet mariné au curcuma', 'Poulet sauté au gingembre et aux champignons noirs', 'Poulet sauté à la citronnelle et au gingembre', 'Brochettes poulet chorizo', 'Blanc de poulet aux endives, champignons et lardons', 'Poulet curry et oignons facile au Companion', 'Poulet pané au parmesan, sauce verte minute', \"Emincé de poulet aux fanes d'oignons nouveaux\", 'Blanc de poulet aux endives, champignon et lardons au Companion', 'Poulet aux champignons au cidre', 'Blancs de poulet aux brocolis sauce coco', \"Blancs de poulet au fenouil à la vapeur d'anis\", 'Mijoté de poulet à la tomate et aux champignons', 'Poulet au curry et tomates', 'Brochettes de poulet miel citron curry', 'Blanc de poulet sauce aux champignons et poireaux au four en 30 minutes', 'Involtini di petti di pollo ( blancs de poulet farcis) (Italie)', 'Blanc de poulet aux endives, champignon et lardons au Monsieur Cuisine', 'Brochettes de poulet et de légumes marinées au quatre-épices', 'Blanc de poulet au jambon de pays', 'Poulet pané sauce barbecue', 'Blancs de poulet au jambon et au fromage', 'Blanquette de poulet vite faite', 'Emincés de poulet à la crème de reblochon', 'poulet aux champignons noirs', 'Wok de blancs de poulet aux épices et boulgour', 'Poulet tandoori au lait de coco ultra facile', 'Poulet sauce piquante', 'Poulet léger au fromage de chèvre', 'Poulet en papillote sauce soja et gingembre', 'Dés de poulet au miel et son tartare de concombre-pommes-chèvre', 'Poulet sauce à la moutarde et au fromage', 'Crêpes poulet - curry', 'Blancs de poulet farcis au comté et au lard', 'Poulet à la crème au citron et au Grana Padano']}, {'ingredient_name': 'oeuf', 'quantity': 1.0, 'recipes': [\"Kebab capucin à l'effiloché d'agneau\", 'Tête de veau à la vinaigrette', 'Escalopes milanaises comme en Italie', 'Escalopes de poulet panées', 'Boulettes de boeuf scandinaves', 'Pintade farcie : recette moelleuse', 'Poulet farci de ma grand-mère', 'Escalopes de veau panées', 'Cailles farcies', 'Blanquette de porc', 'Blanquette de veau façon grand-mère', 'Steak haché de veau épicé', 'Steak de poulet pané', 'Boulettes de veau au curry', 'Soupe turque aigre douce aux boulettes (eksili köfte)', 'Chapon farci au foie gras', 'Blancs de poulet vapeur', 'Karaagé (Poulet frit japonais)', 'Poulet pané au parmesan, sauce tomate poivron', 'Escalopes de veau Parmigiana', 'Paupiettes de saumon', 'Hamburger au barbecue', 'Poulet sans crème', 'Poulet au citron', 'Pâté en croûte au foie gras', \"Rôti de veau à l'italienne\", \"Quenelles de foie à l'alsacienne lewerknepfles\", 'Poulet farci au foie gras', 'Boulettes porc et boeuf sauce tomates', 'pâté de foies de volaille au Porto', 'Tourtière de Ris de Veau aux Girolles', 'Paupiette de canard farcie sauce aux olives', \"Kefté (boulettes de viande à l'arménienne)\", 'Filet de boeuf en croûte au foie gras', 'Poulet fermier farci aux châtaignes', 'boulettes surprises à la mozzarella', 'Boulettes de Königsberg (Königsberger Klopse, Allemagne)', 'Poulet pané sauce barbecue', 'Boulettes de bœuf aux légumes poêlés', 'Côtes de porc panées, sauce au raifort', \"Escalopes bolognaise à l'italienne\", 'Paupiette de veau aux girolles et au jambon de bayonne', 'Nuggets de poulet']}, {'ingredient_name': \"jaune d'oeuf\", 'quantity': 1.0, 'recipes': ['Blanquette de veau : recette traditionnelle', 'Steak tartare', 'Blanquette de poulet', 'Blanquette de saumon', 'Blanquette de la mer', 'Rôti de veau Orloff', 'Filet de boeuf en croûte', 'Poulet en sauce aux asperges', 'Farci de cuisses de poulet', 'Tourte poulet tandoori pomme de terre', 'Rôti de porc en croute', \"Rôti de veau en croûte à l'estragon\", 'Blanquette de veau (de Marielle)', 'Filet de boeuf en croûte au foie gras et aux truffes', 'Blancs de poulet façon blanquette', 'Tourte forestière au confit de canard', 'Rôti de bœuf en croûte échalotes et coriandre', 'Boulettes de Königsberg (Königsberger Klopse, Allemagne)', \"Poulet rôti à l'estragon\", 'Tourte poulet curry (facile et rapide)', \"Steak tartare à l'italienne : tomate séchée et mozzarella\", 'Tourte Figues et Magret', 'Blanquette de veau de la Baronne', 'Côtes de porc moutardées au parmesan', 'Blanquette de veau à ma façon', 'Boulettes au vin rouge vinzauto']}, {'ingredient_name': 'cuisses de poulet', 'quantity': 2.0, 'recipes': ['Cuisses de poulet au four', 'Colombo de poulet', 'poulet à la crème et champignons', 'Poulet en sauce à ma façon', 'Poulet au lait de coco rapide', 'Poulet basquaise au Cookeo', 'Cuisses de poulet façon grand-mère', 'Cuisses de poulet faciles et qui changent', \"Poulet mariné à s'en lécher les doigts\", 'Cuisses de poulet moutarde au four', 'Poulet en cocotte minute au curry et ses légumes', 'Cuisses et ailes de poulet au barbecue', \"Cuisses de poulet Vallée d'Auge\", 'cuisses de poulet, marinade citron', 'Cuisses de poulet aux pruneaux', 'Cuisse de poulet au curry au four facile', 'Cuisse de poulet à la toscane', 'Cuisses de poulet au paprika', 'Cà ri gà( curry de poulet vietnamien)', 'Cuisses de poulet à la moutarde', 'Mijoté de poulet aux légumes au Cookeo', 'cuisse de poulet au citron et aux herbes (rapide)', 'Poulet yassa sénégalais', 'Poulet forestier à la crème', 'Cuisses de poulet aux carottes, pommes de terre, cumin (sauteuse)', 'Cuisses de poulet aux champignons et à la moutarde', 'Cuisses de poulet au miel cuites au four', 'cuisse de poulet farcie', 'Cuisse de poulet confit à la provençale et compotée de légumes printaniers', 'Cuisses de poulet à la semoule', 'Farci de cuisses de poulet', 'Cuisses de poulet à la Provençale faciles', 'Colombo de poulet (Antilles)', 'Cuisses de poulet au cidre', 'cuisses de poulet aux haricots', 'Cuisses de poulet en papillote et champignons', 'Cuisses de poulet aux 3 poivrons et aux olives de Nyons', 'Poulet basquaise pour cocotte-minute', 'Kebab algérois', 'Cuisses de poulet rôti asiatiques', 'Cuisses de poulet aux raisins secs et miel', 'Cuisses de poulet à la bière en cocotte', \"Poulet à la moutarde et au miel d'acacia\", 'Cuisses de poulet aux courgettes', 'Cuisses de poulet maxi prix mini', 'Crêpes poulet champignons', 'Poulet à la moutarde violette', 'Cuisse de poulet a la crème', 'Mon poulet basquaise au four', 'Cuisses de poulet aux champignons', 'Poulet au vinaigre de cidre', 'Cuisses de poulet provençales', 'Mijoté de poulet aux légumes au Thermomix', 'Cuisses de poulet au four aux champignons', 'Cuisses de poulet au paprika en papillotes', 'Poulet aux lardons et aux champignons', 'Cuisses de poulet rôties au miel', 'Poulet coco citronnelle (6ème rencontre)', 'Cuisse de poulet sauce aux trompettes', 'Cuisses de poulet aux olives et estragon', 'Cuisses de poulet caramélisées au thym', 'Mijoté de poulet aux légumes au Monsieur Cuisine', 'Poulet Tandoori', 'Cuisses de poulet, carottes et pommes de terre', 'Carry de poulet au curcuma et gingembre']}, {'ingredient_name': 'rôti de veau', 'quantity': 1.0, 'recipes': ['Rôti de veau au four', 'Rôti de veau en cocotte aux champignons', 'Rôti orloff', 'Rôti de veau en cocotte aux champignons au Cookeo', 'Rôti de veau cuisson lente', 'Roti de veau aux girolles et à la crême', 'Rôti de veau tout simple et parfumé', \"Rôti de veau en croûte à l'estragon\", \"Rôti de veau à l'italienne\", 'Rôti de veau aux tomates et aux olives', 'Rôti de veau normand', 'Rôti de veau Grand-Mère Madou', 'Rôti de veau au lait et romarin', 'Rôti de veau en cocotte aux champignons au Thermomix', 'Rôti de veau façon paysanne', 'Rôti de veau à la cocotte']}, {'ingredient_name': 'paupiettes de veau', 'quantity': 2.0, 'recipes': ['Paupiettes de veau', 'Paupiettes de veau au Cookeo', 'Paupiettes de veau aux champignons', 'Paupiettes en cocotte à la créme', 'Paupiettes de veau au vin blanc', 'Paupiettes de veau au cidre', 'Paupiettes au vin blanc', 'Paupiettes de veau au Thermomix', 'Paupiettes de veau sauce forestière', 'Paupiettes de veau aux oignons et tomates', 'Paupiettes à la mérignicaise', 'paupiettes de veau et sa julienne de legumes', 'Paupiettes de veau au Companion', 'Paupiettes de veau pois carottes navets', 'Paupiettes de veau au Monsieur Cuisine', 'Paupiettes de veau sauce au cidre', 'Paupiettes au vin blanc et lardons', 'Paupiettes de veau à la bourguignonne']}, {'ingredient_name': 'côte de boeuf', 'quantity': 1.0, 'recipes': ['La côte de bœuf au four facile et cuite à la perfection', 'Côte de boeuf barbecue au gros sel']}, {'ingredient_name': 'escalopes de poulet', 'quantity': 2.0, 'recipes': ['poulet au coco et curry', 'Nuggets de poulet faciles', 'Escalopes de poulet panées', 'Emincé de poulet aux épices et au miel', 'Escalopes de poulet à la moutarde facile', 'Sauté de poulet et petits légumes au wok', 'Poulet aux courgettes et au curry', 'Papillote de poulet à la moutarde (recette de régime)', 'Emincé de poulet au curry et à la crème', 'Bricks au poulet et au curry', 'Poulet à la moutarde et au miel', 'Poulet au curry vert', 'Sauté de poulet aux carottes à la crème de moutarde', 'Poulet mariné à la plancha', 'Curry de poulet au lait de coco au Cookéo', 'Emincé de poulet aux pousses de bambou et poivron rouge', 'Escalope de poulet à la normande', 'Poulet au curry et épinards', 'Emincé de poulet à la crème facile', \"Brochettes de poulet marinées au miel et à la moutarde à l'ancienne\", 'Emincés de poulet à la creme et aux champignons', 'Escalopes de poulet panées au four', 'Sauté de poulet aux lardons et à la crème', 'Sauté de poulet sauce soja', 'Poulet mariné à la moutarde (light)', 'Poulet au poivron rouge et lait de coco', 'Emincé de poulet aux poivrons', 'Escalopes de poulet gratinées', 'Blancs de poulet au miel et au citron', 'Tarte au poulet, courgettes et moutarde', 'Blancs de poulet farcis au Pont-L’Évêque', 'Escalopes de volaille au Boursault', \"Poulet à l'ananas sauce aigre douce\", 'escalopes de poulet aux tomates et oignons', 'marinade de poulet au curry sauce coco', 'Poulet aux légumes sauce cacahuète', 'Poulet sauté aux légumes (shop suey)', 'Curry de poulet antillais aux bananes', 'Escalopes de poulet au paprika', 'Poulet tandoori rouge', 'Emincé de poulet à la crème de coco', 'Poulet au fromage blanc', \"Escalope de poulet aux poivrons et à l'aloe vera\", 'Poulet aux pommes et au cidre', 'Colombo de poulet guadeloupéen', 'Poulet aux champignons et carottes hyper léger', 'Escalopes de poulet au citron', \"Blancs de poulet à l'estragon\", 'Emincés de poulet au curry et au miel', 'Escalopes de poulet au roquefort', 'Poulet à la crème et sauce soja', 'Emincé de poulet sauce cacahuètes', 'Escalope de poulet à la cancoillotte', 'Blanc de poulet émincé aux flageolets', 'Roulés de poulet farcis, sauce au foie gras', 'Poulet aux carottes et à la crème de curry', 'Escalopes de poulet marinées aux herbes', 'Escalopes de poulet au vinaigre balsamique', 'Poulet curry coco simplissime', 'Tourte poulet curry (facile et rapide)', 'Escalopes de poulet farcies aux olives et au fromage frais', 'Escalopes de poulet savoyardes', 'Poulet sauce champignons parmesan', 'Nuggets de poulet', 'Escalope de poulet panée au fromage et jambon']}, {'ingredient_name': 'filets de poulet', 'quantity': 2.0, 'recipes': ['Filet de poulet au curry', 'Filets de poulet à la moutarde et à la crème', 'Brochette de poulet marinée au citron et au thym', 'Poulet sauce saté facile', 'Poulet Shahi korma', 'Poulet au vinaigre et à la crème', 'Brick poulet curry fromage', 'Blancs de poulet vapeur', 'Poulet au curry, ananas et lait de coco', 'Colombo de poulet au Cookeo', 'Poulet au curry lait de coco et noix de cajou', 'Tourte poulet tandoori pomme de terre', 'Poulet fafa à la noix de coco', 'Emincé de poulet et légumes', 'Filets de poulet à la crème de poivron facile', 'Filets de poulet marinés au citron, au miel et aux graines de sésame', 'Poulet au curry au wok', 'Salade de poulet au curry simplissime', 'Escalope de poulet ou dinde, sauce ciboulette', 'Poulet au citron confit et ses légumes', \"Brochettes de poulet à l'ananas\", 'Emincé de poulet au paprika et ses petits légumes', 'Blancs de poulet au poivron rouge', 'Brochette de volaille au miel par Laurent Mariotte', 'Colombo de poulet au Thermomix', 'Poulet mariné au barbecue', 'Brochettes de poulet à la libanaise', 'filet de poulet au cidre']}, {'ingredient_name': 'porc', 'quantity': 1.0, 'recipes': [\"Rouelle de porc à l'ancienne\", 'Blanquette de porc', 'Boudin noir', \"Côtelettes de porc à l'italienne\", 'Paupiettes de porc à la romaine de Cathylou', 'Côtelettes de porc au four']}, {'ingredient_name': 'pommes de terre', 'quantity': 2.0, 'recipes': ['Potée au choux et saucisse de Morteau', 'Colombo de poulet', 'Filet mignon de porc fondant en cocotte', 'Rôti de porc sauce fond de veau', 'Cuisses de poulet façon grand-mère', 'Lapin rôti au four à la moutarde', 'Rôti de porc en cocotte minute', 'Cuisses de canard aux pommes de terre confites', 'poulet rôti à la broche à ma façon', 'Rôti de porc à la tomate et aux pommes de terre', 'Sauté de porc avec carottes et pommes de terre', 'Cuisses de poulet moutarde au four', 'Poulet en cocotte minute au curry et ses légumes', 'Poulet aux légumes en sac de cuisson au four', 'Paupiettes de veau au vin blanc', 'Rôti de porc fumé', 'Colombo de poulet antillais', 'Sauté de veau facile aux légumes', 'Soupe turque aigre douce aux boulettes (eksili köfte)', 'Cuisse de poulet au curry au four facile', 'Boeuf bourguignon au Cookéo', 'Sauté de porc à la bière', 'Cà ri gà( curry de poulet vietnamien)', 'Mijoté de poulet aux légumes au Cookeo', 'Sauté de porc aux légumes facile', 'Rôti de veau tout simple et parfumé', 'Blancs de poulet au cidre et pommes persillées', 'Colombo de poulet au Cookeo', \"Magret de canard au miel, pomme de terre et oignon à l'ail\", 'Sauté de veau de Lisbonne', 'Côtes de porc en ragoût', 'Tourte poulet tandoori pomme de terre', 'Poulet sans crème', 'Rôti de porc et légumes en cocotte', 'Colombo de poulet (Antilles)', \"Poulet à l'estragon à la mijoteuse électrique\", 'Poulet rôti aux patates douces', 'Cuisses de poulet en papillote et champignons', \"Ris de veau à l'ancienne\", 'Cuisse de canard confite au cidre', 'Rôti de porc boulangère', \"Rôti d'automne de porc aux coings\", 'Cuisses de canard aux olives vertes', 'Cuisses de poulet à la bière en cocotte', 'Cuisse de canard confite au vin blanc', 'Garbure au confit de canard', 'Paupiettes à la mérignicaise', \"Côtes de porc sur lit de pommes de terre à l'ail\", 'Cuisse de poulet a la crème', 'Lapin moutarde express pour deux', 'Mijoté de poulet aux légumes au Thermomix', 'Côtes de porc à la vapeur', 'Poulet rôti farci à la marocaine', 'Magret de canard entier sur lit de noix et foie gras poêlé façon Célia', 'Sauté de porc à la crème pimentée', 'Boeuf colombo façon bourguignon', 'Choux rouge aux pommes et côte de porc (Belgique)', 'Parmentier de confit de canard et foie gras', 'Rôti de veau façon paysanne', 'Mijoté de poulet aux légumes au Monsieur Cuisine', 'joue de porc à ma façon', 'Colombo de poulet au Thermomix', 'Cuisses de poulet, carottes et pommes de terre', 'Soupe au sirop de Liège et boulettes de boeuf', 'Ecrasée de pommes de terre au confit de canard', 'Magret de canard sauce moutarde']}, {'ingredient_name': 'courgette', 'quantity': 1.0, 'recipes': ['Colombo de poulet', 'brochettes boeuf-poulet et légumes', 'Mijoté de poulet aux légumes au Cookeo', 'Sauté de porc aux légumes facile', 'Poulet au curry et petits légumes', 'Colombo de poulet au Cookeo', 'Lapin succulent à la moutarde douce', 'Cuisse de poulet confit à la provençale et compotée de légumes printaniers', 'Poulet aux légumes sauce cacahuète', 'Poulet sauté aux légumes (shop suey)', 'Emincé de poulet et légumes', 'Mijoté de poulet aux légumes au Thermomix', 'Emincé de poulet au paprika et ses petits légumes', 'Mijoté de poulet aux légumes au Monsieur Cuisine', 'Colombo de poulet au Thermomix', 'Soupe au sirop de Liège et boulettes de boeuf', 'Sauté de veau au paprika']}, {'ingredient_name': 'carotte', 'quantity': 0.25, 'recipes': ['Lapin à la moutarde maison', 'Daube provençale', 'Jarret de boeuf façon coq au vin', 'Sauté de poulet et petits légumes au wok', 'Lapin à la moutarde maison au Cookeo', 'Rôti de boeuf à la cocotte', 'Rôti de porc en cocotte minute', 'Boeuf bourguignon très moelleux', 'Paupiettes en cocotte à la créme', 'Blanquette de veau façon grand-mère', 'Rôti de porc froid charcutière', \"Cuisse de lapin à la moutarde à l'ancienne en papillote\", 'Blanquette de veau maison', \"Cuisses de canard au miel et à l'orange\", 'Boeuf bourguignon au Cookéo', 'Tournedos Rossini sauce porto', 'Rôti de porc au petits légumes', 'Sauté de porc à la bière', 'Coq au vin maison au Cookeo', 'Mijoté de poulet aux légumes au Cookeo', 'Sauté de porc façon asiatique', 'Osso-buco Milanaise, gremolata, spaghettis', 'Foie gras truffé au vin blanc moelleux', 'Lapin succulent à la moutarde douce', 'Daube de boeuf à la provençale', 'Sauté de porc au miel et au Ras el Hanout', 'Soupe de lentilles corail au poulet et au lait de coco', 'Paupiettes de veau en cocotte', 'Lapin à la moutarde maison au Thermomix', 'Coq en pâte', 'Paupiettes de porc à la romaine de Cathylou', 'Cuisse de poulet a la crème', 'Poulet au vinaigre de cidre', 'Gnocchis au poulet et champignons', 'Mijoté de poulet aux légumes au Thermomix', 'Rôti de veau façon paysanne', 'Wok de blancs de poulet aux épices et boulgour', 'Boeuf braisé au paprika', 'Mijoté de poulet aux légumes au Monsieur Cuisine', \"Escalopes bolognaise à l'italienne\", 'Blanquette de veau', 'Crêpes poulet - curry', 'Blanquette de veau aux pleurotes et légumes de saison']}, {'ingredient_name': 'lapin', 'quantity': 1.0, 'recipes': ['Lapin à la moutarde maison', 'Lapin à la moutarde en cocotte', 'Lapin sauce chasseur', 'Lapin à la moutarde maison au Cookeo', 'Lapin rôti au four à la moutarde', 'Lapin au cidre', 'Gibelotte de lapin aux champignons', 'Lapin aux champignons', 'Lapin de garenne au cidre', 'Lapin aux tomates, champignons et lardons', 'Lapin au cidre et aux pommes', 'Lapin succulent aux pruneaux', 'Lapin sauté chasseur', 'Lapin au vin blanc et aux champignons', 'Lapin au cidre et aux pruneaux', \"Lapin aux pruneaux d'Agen\", 'Lapin facile à la moutarde', 'Lapin aux champignons et au vin rouge', 'Lapin à la moutarde et lait de coco', \"Lapin à l'ail en cocotte au four\", 'Lapin à la moutarde maison au Thermomix', 'Lapin aux pruneaux à la manière de ma grand-mère', 'Lapin mariné aux herbes à la moutarde', 'Lapin à la crème façon Anne', 'Lapin au cidre et aux champignons', 'Lapin à la bière et à la moutarde', 'Lapin à la moutarde sans four', 'Lapin au cidre à ma façon', \"Pâté de Lapin ch'ti - à l'estragon\", 'Lapin confit au four', 'Lapin à la moutarde et aux champignons', 'Lapin sauce marengo', 'Blanquette de lapin à la plage', 'Lapin, sauce crémeuse au porto', \"Lapin sauce pain d'épices\", \"Lapin en cocotte au bleu d'Auvergne\"]}, {'ingredient_name': 'côte de porc', 'quantity': 1.0, 'recipes': ['Côtes de porc au four', 'Délicieuses côtes de porc marinées']}, {'ingredient_name': 'tête de veau', 'quantity': 1.0, 'recipes': ['Tête de veau à la vinaigrette', 'tête de veau sauce ravigote', 'Tête de veau sauce moi']}, {'ingredient_name': 'tomates', 'quantity': 2.0, 'recipes': ['Escalopes milanaises comme en Italie', 'Poulet au lait de coco rapide', 'Cari de poulet (comme à la Réunion)', 'Langue de boeuf aux petits légumes, sauce Madère', 'Cuisses de lapin aux champignons', 'Rôti de porc à la tomate et aux pommes de terre', \"Cuisses de poulet à la sauce d'arachide\", 'Poulet aux légumes en sac de cuisson au four', 'Souvlakis grecs', 'Poulet au curry et épinards', 'Poulet au four et ses légumes', 'Rôti de veau cuisson lente', 'Sauté de veau provençal', 'Blancs de poulet minceur à ma façon', 'brochettes boeuf-poulet et légumes', 'Escalopes de poulet panées au four', 'Rôti de porc au petits légumes', \"Escalopes de Veau à l'Italienne\", 'Sauté de porc au curry maison', 'Poulet pané au parmesan, sauce tomate poivron', 'Poulet au curry et petits légumes', 'Lapin sauté chasseur', 'MURGH MAKHAN MASALA ou Poulet Tikka et sa sauce', 'Emincé de poulet aux poivrons', 'Cuisse de poulet confit à la provençale et compotée de légumes printaniers', 'Tarte au poulet, courgettes et moutarde', 'Cuisses de poulet à la Provençale faciles', 'Rôti de porc et légumes en cocotte', 'Boeuf bourguignon aux olives', 'Queue de lotte au lait de coco et curry', \"Rôti de veau à l'italienne\", \"Paupiettes de poulet aux olives et feuilles de blettes à l'italienne\", 'Blancs de poulet au lait de coco', 'cuisses de poulet aux haricots', 'Poulet rôti aux patates douces', 'Sauté de veau aux petits pois', 'Doro Wat ou Poulet en sauce (Ethiopie)', 'Emincé de poulet aux carottes et olives', 'Paupiettes de veau aux oignons et tomates', 'Sauté de veau au paprika aux poivrons et à la tomate', 'Paupiettes à la mérignicaise', 'Daube de boeuf au vin blanc', 'Brochettes de poulet miel citron curry', 'Mon poulet basquaise au four', 'Poulet au vinaigre de cidre', 'Piccata de veau aux aubergines', 'Curry de chou au poulet', 'Poulet coco citronnelle (6ème rencontre)', 'Brochettes de rognons de veau et tomates grillées', 'Poulet Rôti façon Mandine', 'Saumon et fruits de mer au curry', 'Sauté de porc à la crème pimentée', 'Poulet au citron confit et ses légumes', 'Daube de veau méditerranéenne', 'Emincés de poulet à la provencale', 'Curry de poulet aux 8 épices', 'Wok de blancs de poulet aux épices et boulgour', 'Blancs de poulet farcis au comté et au lard', 'Blanquette de veau à ma façon', 'Carry de poulet au curcuma et gingembre', 'Curry de poulet pistaches et noix de coco (rencontres Marmiton 2)', 'Poulet aux champignons et olives', 'Sauté de veau au paprika', 'Curry à la népalaise']}, {'ingredient_name': 'escalopes de veau', 'quantity': 2.0, 'recipes': ['Escalopes milanaises comme en Italie', 'escalopes de veau à la crème', 'Wiener Schnitzel ou escalope viennoise', 'Saltimbocca de veau', 'Escalopes de veau panées', 'Saltimbocca alla romana', 'escalope de veau au marsala', 'Escalopes savoyardes', \"Escalopes de Veau à l'Italienne\", 'Escalopes de veau Parmigiana', 'Escalopes de veau à la crème / involtini (Italie)', 'Piccata de veau au Marsala', 'Escalope de veau au jambon de parme et mozzarella', 'Escalope de veau (piccata milanaise)', 'Paupiettes de veau en cocotte', 'Escalopes jurassiennes', 'Escalopes de veau panées au four', 'escalopes Luculus', 'Escalope de veau sauce citronnée', 'Saltimbocca de veau & jambon de Parme', 'paupiettes au foie gras', \"Escalopes bolognaise à l'italienne\", 'Escalopes bolognaises', 'Escalopes florentines', 'Paupiette de veau aux girolles et au jambon de bayonne', 'Escalopes de veau aux petits légumes du jardin']}, {'ingredient_name': 'chorizo', 'quantity': 0.5, 'recipes': ['Marmite Espagnole au Cookeo', 'Sauté de veau au chorizo', 'Sauté de porc à la bière', 'Sauté de porc au chorizo', 'Sauté de veau de Lisbonne', 'Brochettes poulet chorizo']}, {'ingredient_name': \"blancs d'oeuf\", 'quantity': 3.0, 'recipes': ['Nuggets de poulet faciles', 'Foie gras truffé au vin blanc moelleux']}, {'ingredient_name': 'cuisses de canard', 'quantity': 2.0, 'recipes': ['Cuisses de canard confites', \"Cuisse de canard à l'orientale\", 'Cuisses de canard aux pommes de terre confites', 'Confit de Canard (conserve)', 'Cuisses de canard en sauce', \"Cuisses de canard au miel et à l'orange\", 'terrine de canard au foie gras', 'Cuisses de canard aux pêches', 'Cuisses de canard et navets confits', 'Cuisses de canard aux champignons parfumés', 'Burgers au confit de canard', 'Cuisse de canard confite au cidre', 'Cuisses de canard aux olives vertes', 'Cuisse de canard confite au vin blanc', 'Garbure au confit de canard', 'Cuisses de canard aux carottes, champignons et pruneaux', 'Parmentier de confit de canard et foie gras', \"Navets glacés au sirop d'érable et confit de canard\", 'Cuisses de canard aux lentilles', 'Ecrasée de pommes de terre au confit de canard']}, {'ingredient_name': 'yaourt', 'quantity': 1.0, 'recipes': ['Poulet Tandoori (Masala)']}, {'ingredient_name': 'beurre', 'quantity': 1.0, 'recipes': ['Poulet Tandoori (Masala)', 'Lapin à la moutarde en cocotte', 'Lapin à la moutarde maison au Cookeo', 'Blanquette de saumon', 'Cailles farcies', 'Blanc de poulet aux endives, champignon et lardons au Cookeo', 'Poulet Shahi korma', 'Blancs de poulet farcis au Pont-L’Évêque', 'Rôti de porc aux carottes et navets', 'Lapin à la moutarde maison au Thermomix', \"Côtelettes de porc à l'italienne\", 'Blanc de poulet aux endives, champignon et lardons au Companion', 'Poulet au vinaigre de cidre', 'Blanc de poulet aux endives, champignon et lardons au Monsieur Cuisine', 'Gnocchis au poulet et champignons', 'Blanquette de lapin à la plage']}, {'ingredient_name': 'échine de porc', 'quantity': 1.0, 'recipes': ['Effiloché de porc par Laurent Mariotte', 'Sauté de porc façon asiatique']}, {'ingredient_name': 'côtes de porc', 'quantity': 2.0, 'recipes': ['Côtes de porc au curry et au miel', 'Côtes de porc marinées au barbecue', 'Côtes de porc sauce moutardée', 'Côtes de porc à la moutarde', 'Côtes de porc charcutières', 'Côtelettes de porc au barbecue - Pork Chop', 'Côte de porc à la sauce tomate', 'Côte de porc Parisienne', 'Côtes de porc aux pommes de terre', 'Côtes de porc en ragoût', 'Côtes de porc au miel', 'Papillotes de côtes de porc', 'Côtes de porc cuisinées', \"Côtes de porc sur lit de pommes de terre à l'ail\", 'Fricassée de porc à la langue de boeuf (champignon) et au Corbières', \"Côtes de porc à l'italienne\", 'Côtelettes de porc surprises au fromage', 'Côtes de porc à la crème de paprika', 'Côtes de porc à la moutarde pour étudiant', 'Côtes de porc à la vapeur', 'Côtes de porc moutardées à la normande', 'Choux rouge aux pommes et côte de porc (Belgique)', 'Côtes de porc panées, sauce au raifort', 'Côtes de porc au curry et aux pommes', 'Côtes de porc moutardées au parmesan']}, {'ingredient_name': 'joue de porc', 'quantity': 4.0, 'recipes': ['Joues de porc confites au cidre', 'Joues de porc en cocotte', 'Joues de porc au four', 'joues de porc mijotées aux légumes', 'Joues de porc au cidre et miel', 'Joue de porc au curry', 'Noix de joues de porc à la tomate', 'Civet de joues et de pieds de porc', 'Noix de joue de porc aux champignons', 'Joues de porc au Curry']}, {'ingredient_name': 'pieds de veau', 'quantity': 2.0, 'recipes': ['Tripes à la mode de Caen', 'Tripes au cidre et au Calvados']}, {'ingredient_name': 'poireau', 'quantity': 1.0, 'recipes': [\"Blanquette de veau à l'ancienne\", 'Blanquette de veau express à la cocotte minute', 'Rôti de porc au petits légumes', 'Blanquette de veau traditionnelle', 'Foie gras truffé au vin blanc moelleux', 'Cuisse de poulet a la crème', 'Yakitori (brochettes de poulet japonaises)', 'Boulettes de Königsberg (Königsberger Klopse, Allemagne)', 'Pot au feu au foie gras', 'Blanquette de poulet vite faite', 'Blanquette de veau aux pleurotes et légumes de saison']}, {'ingredient_name': 'magret de canard', 'quantity': 0.5, 'recipes': ['Magret de canard sauce aux poivres', 'Magret de canard au vieux porto et aux échalotes', 'Magret de canard en papillote (barbecue)', 'Magret de canard au miel et au vinaigre de framboise', 'Magret de canard au gril', 'Magret de canard et mangue', 'Magret de canard aux poires (au four, simple et délicieux)', 'Paupiette de canard farcie sauce aux olives', 'Magret de canard au vin blanc', \"Magret de canard à l'orange sauce abricot - cannelle\", 'Magret de canard entier sur lit de noix et foie gras poêlé façon Célia', 'Tourte Figues et Magret', 'Magret de canard sauce miel-romarin', 'Magret sauce nougat cacahuètes', 'magret de canard aux gnocchis sauce roquefort', 'Magret de canard au miel, épices et vin blanc', 'magret de canard aux échalotes, sauce au vin']}, {'ingredient_name': 'oeufs', 'quantity': 2.0, 'recipes': ['Wiener Schnitzel ou escalope viennoise', 'Boudin blanc maison', 'Chicken burger', 'Steak à cheval amelioré', 'Ailes et pilons de poulet panés', 'Tarte poulet et champignons', 'Escalopes savoyardes', 'Tarte poulet / curry', 'La terrine de foie de porc de ma tante Gisèle', \"Poulet pané aux flocons d'avoine\", 'Boulettes de viande à la Sicilienne', 'Boulettes de bœuf à la pulpe de tomate', 'Boulettes de veau au parmesan, sauce tomate au basilic', 'Rôti de veau au vin blanc', 'Tarte au poulet, courgettes et moutarde', 'Escalope de veau (piccata milanaise)', 'Chapon farci aux morilles', 'Coq en pâte', 'Kebab algérois', 'Poulet pané au parmesan, sauce verte minute', 'Doro Wat ou Poulet en sauce (Ethiopie)', 'Tarte au poulet épicé et à la moutarde', 'Cailles farcies aux cèpes', \"Boulettes de veau à l'italienne\", \"Boulettes de boeuf à l'ananas gerdilien (recette créole)\", 'Tourte aux émiettés de confit de canard et pommes de terre aux herbes de Provence', 'Chili burger (burger épicé)', 'Oie farcie et sa sauce au cidre', 'Tendresse de poulet et sa sauce acidulée', 'Pâté aux foies de volaille (avec version sans porc)', 'Escalope de poulet panée au fromage et jambon']}, {'ingredient_name': 'tomate', 'quantity': 0.5, 'recipes': ['Sauté de dinde facile', 'Chicken burger', 'Papillote de poulet à la moutarde (recette de régime)', 'Pizza kebab', 'Poulet sauce saté facile', 'Tibs (Ethiopie)', 'cari de poulet', 'Hamburger au barbecue', 'Lapin succulent à la moutarde douce', 'Tass Kebab à ma façon', 'Paupiettes de porc à la romaine de Cathylou', 'poulet en sauce piquante (chtitha djedj)', 'Panini thon curry', \"Côtes de porc à l'italienne\", 'Escalopes de poulet au roquefort', 'Gnocchis au poulet et champignons', 'Poulet rôti farci à la marocaine', 'Escalope de poulet ou dinde, sauce ciboulette', 'Le double burger du roi', 'Emincé de poulet au paprika et ses petits légumes']}, {'ingredient_name': 'poulet de 1,3 à 1,4 kg u', 'quantity': 1.0, 'recipes': ['Poulet au vin Jaune du Jura et morilles']}, {'ingredient_name': 'canard', 'quantity': 1.0, 'recipes': ['canard roti au four', \"Canard à l'orange\", 'Confit de canard maison', \"Canard à l'orange et au miel\", 'cuisses de canard en tajine sucré-salé', 'Pot au feu au foie gras', 'Pastilla au canard confit et foie gras poêlé']}, {'ingredient_name': 'fond de veau', 'quantity': 1.0, 'recipes': [\"Canard à l'orange\", 'Sauté de veau facile aux légumes', 'Sauté de porc aux légumes facile', 'Sauté de dinde à la provençale']}, {'ingredient_name': 'jarrets de porc', 'quantity': 2.0, 'recipes': ['Jarret de porc rôti (Schweinshaxe)']}, {'ingredient_name': 'rôti de boeuf', 'quantity': 1.0, 'recipes': ['Rôti de boeuf à la cocotte', \"Rôti de boeuf à l'oignon caramélisé\", 'Rôti de boeuf en croûte au foie gras et girolles', 'Rôti de boeuf en croûte de sel', \"Rosbeef  3/4 d'heure\"]}, {'ingredient_name': 'pomme', 'quantity': 0.25, 'recipes': ['Pintade farcie : recette moelleuse', 'Bricks au poulet et au curry', 'Joues de porc au cidre et miel', 'Sauté de porc au curry maison', 'Paupiettes de veau au cidre', 'Poulet au curry et tomates', 'Curry de poulet et pommes de terre au lait de coco', 'Poulet au curry au wok', 'Curry de poulet aux fruits verts', 'Côtelettes de porc au four', 'Dés de poulet au miel et son tartare de concombre-pommes-chèvre', 'Blanquette de veau à ma façon']}, {'ingredient_name': 'ailes de poulet', 'quantity': 6.0, 'recipes': ['Chicken wings', 'Ailes et pilons de poulet panés', 'Cuisses et ailes de poulet au barbecue', 'ailes de poulet aux quatre épices']}, {'ingredient_name': 'courgettes', 'quantity': 2.0, 'recipes': ['Poulet aux courgettes et au curry', 'Poulet au curry vert', 'Poulet aux légumes en sac de cuisson au four', 'Blancs de poulet minceur à ma façon', 'Tarte au poulet, courgettes et moutarde', 'Cuisses de poulet aux courgettes', 'Poulet à la moutarde violette', 'Brochettes de poulet et de légumes marinées au quatre-épices', \"'Blanquette' de veau à la tomate et courgettes\", 'Poulet au citron confit et ses légumes', 'rôti de porc en Romertopf', \"Blanquette de veau à l'espagnole, au chorizo\", 'Wok de blancs de poulet aux épices et boulgour', 'Magret sauce nougat cacahuètes']}, {'ingredient_name': 'pied de veau', 'quantity': 1.0, 'recipes': ['Boeuf bourguignon très moelleux']}, {'ingredient_name': 'poulets', 'quantity': 2.0, 'recipes': [\"Cuisses de poulet à la sauce d'arachide\", 'Cuisses de poulet en papillote', 'Poulet au whisky champignons et crème fraîche', 'Poulet curry et échalotes', 'Poulet flambé au Ricard', 'Poulet coco citronnelle facile', 'Emincés de poulet à la provencale', 'Poulet  au vin blanc et oignons']}, {'ingredient_name': 'langue de veau', 'quantity': 1.0, 'recipes': ['Langue sauce piquante']}, {'ingredient_name': 'pilons de poulet', 'quantity': 4.0, 'recipes': ['Pilons de poulet à la crème', 'Ailes et pilons de poulet panés', 'Pilons de poulet à la sauce tomate, olives et champignons', 'Poulet citron miel gingembre façon Anne', 'Pilons de poulet à la sauce tomate']}, {'ingredient_name': 'rognon de veau', 'quantity': 1.0, 'recipes': ['Rognons de veau au madère', 'Rognons de veau flambés à la crème à la moutarde']}, {'ingredient_name': 'poireaux', 'quantity': 2.0, 'recipes': ['Blanquette de la mer', 'Blanquette de porc', 'Blanquette de veau maison', 'Langue de veau au court-bouillon gratinée', 'joues de porc mijotées aux légumes', \"Ris de veau à l'ancienne\", 'Rôti de porc sur lit de poireaux', 'Blanc de poulet sauce aux champignons et poireaux au four en 30 minutes', 'Ris de veau aux petits légumes', 'Blanquette de veau de ma mamie', 'Blanquette de veau sauce pickles', 'Oie farcie et sa sauce au cidre', 'Blanquette de veau', 'Tripes au cidre et au Calvados']}, {'ingredient_name': 'lieu noir', 'quantity': 4.0, 'recipes': ['Blanquette de la mer', 'Darnes de cabillaud aux poireaux et au curry']}, {'ingredient_name': 'pommes', 'quantity': 2.0, 'recipes': [\"Cuisses de poulet Vallée d'Auge\", 'Rôti de porc au miel et aux pommes', 'Magret de canard aux pommes', 'Lapin au cidre et aux pommes', 'Poulet au curry et aux pommes', 'Magret de canard au miel, sauce soja et pommes', 'Curry de poulet au yaourt', 'Rôti de porc au cidre doux', 'Curry de poulet aux pommes', 'Poulet aux pommes et au cidre', 'Rôti de porc au miel et sauce soja sucrée', 'Filets de lapin aux pommes et au cidre', 'Choux rouge aux pommes et côte de porc (Belgique)', 'Rôti de porc accompagné de chou rouge (façon Narriman)', 'Boulettes de bœuf aux légumes poêlés', 'Lapin au cidre à ma façon', 'Côtes de porc au curry et aux pommes', 'Magret de canard au cidre', 'Oie farcie et sa sauce au cidre', 'Pastilla au canard confit et foie gras poêlé', 'Cuisses de canard aux lentilles', 'Magrets de canard aux pommes et oignons confits', \"Magret de canard à la compotine de pommes et d'oranges\"]}, {'ingredient_name': 'blanc de poulet', 'quantity': 1.0, 'recipes': ['Poulet mariné au curry et gingembre facile', 'Pita au poulet au curry', 'Papillote de poulet au bacon', 'Tourte Figues et Magret']}, {'ingredient_name': 'pâte à pizza', 'quantity': 1.0, 'recipes': ['Pizza kebab', 'Pizza lardons, magrets, chèvre', 'Pizza poulet, ananas et curry']}, {'ingredient_name': 'veau', 'quantity': 0.5, 'recipes': ['Sauté de veau facile aux légumes', 'Daube de biche', 'Daube de veau méditerranéenne', 'Rôti de veau au miel']}, {'ingredient_name': 'riz', 'quantity': 6.0, 'recipes': ['Emincé de poulet à la crème facile']}, {'ingredient_name': 'langues de veau', 'quantity': 2.0, 'recipes': ['Langue de veau au court-bouillon gratinée']}, {'ingredient_name': 'bouillon de boeuf', 'quantity': 0.5, 'recipes': ['Poulet au vin blanc et aux olives', \"filet mignon à l'orange et aux patates douces\"]}, {'ingredient_name': 'filet de poulet', 'quantity': 1.0, 'recipes': ['Steak de poulet pané']}, {'ingredient_name': 'rognons de veau', 'quantity': 2.0, 'recipes': ['Rognons de veau flambés à la crème de champignons', 'Rognons de veau à la crème de porto', 'Brochettes de rognons de veau et tomates grillées']}, {'ingredient_name': 'lapin entier', 'quantity': 1.0, 'recipes': ['Lapin à la moutarde en cocotte en fonte', 'Lapin farci au four']}, {'ingredient_name': 'petit os de veau', 'quantity': 1.0, 'recipes': ['Tournedos Rossini sauce porto', 'Blanquette de veau de la Baronne']}, {'ingredient_name': 'escalope de poulet', 'quantity': 1.0, 'recipes': ['brochettes boeuf-poulet et légumes', 'Poulet mariné tout simple', 'Tarte au poulet épicé et à la moutarde', 'Gnocchis au poulet et champignons']}, {'ingredient_name': 'yaourts brassés', 'quantity': 2.0, 'recipes': ['Poulet grillé mariné au yaourt']}, {'ingredient_name': 'aiguillettes de poulet', 'quantity': 6.0, 'recipes': ['Aiguillettes de poulet panées à la moutarde et au miel', 'Aiguillettes de poulet marinées au citron', 'Poulet au curry et petits légumes', 'Gnocchis au poulet et à la crème de parmesan gratinés au four']}, {'ingredient_name': 'poulet entier', 'quantity': 1.0, 'recipes': ['Poulet au citron', 'Poulet doré au safran, citron et miel façon funambuline', 'POULET AU CITRON ET AU THYM', 'Porridge riz et poulet (congee ou jook)']}, {'ingredient_name': 'osso bucco de veau', 'quantity': 4.0, 'recipes': ['Osso-buco Milanaise, gremolata, spaghettis']}, {'ingredient_name': 'tomates concassées', 'quantity': 2.0, 'recipes': ['Sauté de dinde à la provençale', 'Sauté de porc au paprika']}, {'ingredient_name': 'râble de lapin', 'quantity': 1.0, 'recipes': ['Lapin succulent à la moutarde douce', 'Râble de lapin en rôti provençal', 'Lapin aux pruneaux et à la bière']}, {'ingredient_name': 'pomme de terre', 'quantity': 1.0, 'recipes': ['Lapin succulent à la moutarde douce', 'Pot au feu au foie gras']}, {'ingredient_name': 'yaourts', 'quantity': 2.0, 'recipes': ['Curry de poulet au yaourt', 'Brochettes de poulet tandoori']}, {'ingredient_name': 'bananes', 'quantity': 2.0, 'recipes': ['Curry de veau', 'Curry de poulet antillais aux bananes']}, {'ingredient_name': 'tomates confites à l’huile', 'quantity': 3.0, 'recipes': ['Râble de lapin en rôti provençal']}, {'ingredient_name': 'coeurs de canard', 'quantity': 16.0, 'recipes': ['Brochettes coeur et magret de canard à la marinade sucrée/salée']}, {'ingredient_name': 'mangue', 'quantity': 1.0, 'recipes': ['Magret de canard et mangue']}, {'ingredient_name': 'râbles de lapin', 'quantity': 4.0, 'recipes': ['Blanquette de lapin au riesling et aux girolles']}, {'ingredient_name': 'boeuf', 'quantity': 1.0, 'recipes': ['Côte de boeuf grillée à la sauce moutarde', 'Côte de boeuf, sauce onctueuse aux herbes']}, {'ingredient_name': 'côtes de veau', 'quantity': 4.0, 'recipes': ['Côte de veau par Laurent Mariotte']}, {'ingredient_name': 'jarrets de veau', 'quantity': 4.0, 'recipes': ['Osso bucco aux légumes du marché']}, {'ingredient_name': 'tomates séchées', 'quantity': 4.0, 'recipes': [\"Rôti de porc au lait de coco d'Elvire\", \"Steak tartare à l'italienne : tomate séchée et mozzarella\", 'Cuisses de poulet caramélisées au thym']}, {'ingredient_name': 'foie gras de canard du sud-ouest cru surgelé', 'quantity': 1.0, 'recipes': ['Pintade farcie au foie gras et légumes oubliés']}, {'ingredient_name': 'ris de veau', 'quantity': 1.0, 'recipes': ['Ris de veau aux petits légumes', 'ris de veau aux pommes de terre', 'Ris de veau aux cèpes de Dordogne']}, {'ingredient_name': 'banane', 'quantity': 0.25, 'recipes': ['Curry de poulet et pommes de terre au lait de coco', 'Curry de poulet aux fruits verts']}, {'ingredient_name': 'tomates cerise', 'quantity': 10.0, 'recipes': ['Brochettes de poulet et de légumes marinées au quatre-épices']}, {'ingredient_name': 'cuisse de canard', 'quantity': 1.0, 'recipes': ['Cuisses de canard au miel']}, {'ingredient_name': 'blanc de poireau', 'quantity': 1.0, 'recipes': ['Escalopes de veau aux petits légumes du jardin']}]\n"
     ]
    }
   ],
   "source": [
    "spec_ing = extract_spec_ingredients(filtered_recipes)\n",
    "print(f\"Total unique ingredients: {len(spec_ing)}\")\n",
    "print(spec_ing)"
   ]
  },
  {
   "cell_type": "code",
   "execution_count": 15,
   "id": "d149c0b3",
   "metadata": {},
   "outputs": [],
   "source": [
    "spec_ing_weights_non_vege = {\n",
    "    \"poulet\": 150,                                 # generic portion\n",
    "    \"tomates pelées\": 400,                          # per can\n",
    "    \"moules\": 20,                                  # per mussel\n",
    "    \"crevettes roses\": 20,                          # per shrimp\n",
    "    \"avocat\": 200,                                 # per avocado\n",
    "    \"travers de porc\": 200,                          # per rack\n",
    "    \"oignons nouveaux\": 30,                         # per onion\n",
    "    \"escalopes de porc\": 150,                        # per escalope\n",
    "    \"galettes de riz\": 10,                           # per rice cake\n",
    "    \"rôti de porc\": 1800,                            # per roast\n",
    "    \"cuisses de lapin\": 250,                          # per leg\n",
    "    \"boeuf haché\": 200,                               # per portion\n",
    "    \"magrets de canard\": 350,                         # per breast\n",
    "    \"saumon\": 200,                                   # per fillet\n",
    "    \"crevettes\": 20,                                 # per shrimp\n",
    "    \"saumon fumé\": 50,                               # per slice\n",
    "    \"yaourt nature\": 125,                             # per pot\n",
    "    \"mangues\": 300,                                  # per mango\n",
    "    \"carottes\": 70,                                  # per carrot\n",
    "    \"beurre doux\": 10,                                # per pat\n",
    "    \"jaunes d'oeuf\": 18,                              # per yolk\n",
    "    \"blancs de poulet\": 150,                           # per piece\n",
    "    \"oeuf\": 60,                                      # per egg\n",
    "    \"jaune d'oeuf\": 18,                               # per yolk\n",
    "    \"cuisses de poulet\": 250,                          # per leg\n",
    "    \"rôti de veau\": 1800,                              # per roast\n",
    "    \"paupiettes de veau\": 200,                         # per piece\n",
    "    \"côte de boeuf\": 300,                              # per steak\n",
    "    \"escalopes de poulet\": 150,                         # per escalope\n",
    "    \"filets de poulet\": 150,                            # per fillet\n",
    "    \"porc\": 150,                                       # generic portion\n",
    "    \"pommes de terre\": 150,                             # per potato\n",
    "    \"courgette\": 200,                                   # per zucchini\n",
    "    \"carotte\": 70,                                      # per carrot\n",
    "    \"lapin\": 200,                                       # per piece\n",
    "    \"côte de porc\": 200,                                # per chop\n",
    "    \"tête de veau\": 1200,                               # whole head\n",
    "    \"tomates\": 100,                                     # per tomato\n",
    "    \"escalopes de veau\": 150,                             # per escalope\n",
    "    \"chorizo\": 50,                                      # per link slice\n",
    "    \"blancs d'oeuf\": 30,                                # per egg white\n",
    "    \"cuisses de canard\": 300,                            # per leg\n",
    "    \"yaourt\": 125,                                      # per pot\n",
    "    \"beurre\": 10,                                       # per pat\n",
    "    \"échine de porc\": 200,                               # per portion\n",
    "    \"côtes de porc\": 200,                                # per chop\n",
    "    \"joue de porc\": 80,                                  # per cheek\n",
    "    \"pieds de veau\": 300,                                # per foot\n",
    "    \"poireau\": 150,                                     # per leek\n",
    "    \"magret de canard\": 350,                             # per breast\n",
    "    \"oeufs\": 60,                                         # per egg\n",
    "    \"tomate\": 100,                                       # per tomato\n",
    "    \"poulet de 1,3 à 1,4 kg u\": 1350,                   # whole chicken in range\n",
    "    \"canard\": 1200,                                      # per whole duck\n",
    "    \"fond de veau\": 250,                                 # per package\n",
    "    \"jarrets de porc\": 400,                               # per shank\n",
    "    \"rôti de boeuf\": 1800,                                # per roast\n",
    "    \"pomme\": 150,                                         # per apple\n",
    "    \"ailes de poulet\": 50,                                 # per wing\n",
    "    \"courgettes\": 200,                                     # per zucchini\n",
    "    \"pied de veau\": 300,                                   # per foot\n",
    "    \"poulets\": 1200,                                       # per whole chicken\n",
    "    \"langue de veau\": 400,                                  # per tongue\n",
    "    \"pilons de poulet\": 200,                                # per drumstick\n",
    "    \"rognon de veau\": 100,                                  # per kidney\n",
    "    \"poireaux\": 150,                                        # per leek\n",
    "    \"lieu noir\": 200,                                        # per fillet\n",
    "    \"blanc de poulet\": 150,                                   # per piece\n",
    "    \"pâte à pizza\": 400,                                       # per dough base\n",
    "    \"veau\": 200,                                               # per portion\n",
    "    \"riz\": 200,                                                # per cup cooked\n",
    "    \"langues de veau\": 400,                                     # per two tongues\n",
    "    \"bouillon de boeuf\": 250,                                    # per carton\n",
    "    \"filet de poulet\": 150,                                       # per fillet\n",
    "    \"rognons de veau\": 100,                                        # per pair\n",
    "    \"lapin entier\": 1200,                                          # per whole rabbit\n",
    "    \"petit os de veau\": 100,                                        # per small os\n",
    "    \"escalope de poulet\": 150,                                      # per escalope\n",
    "    \"yaourts brassés\": 125,                                         # per pot\n",
    "    \"aiguillettes de poulet\": 100,                                   # per portion\n",
    "    \"poulet entier\": 1300,                                           # per whole chicken\n",
    "    \"osso bucco de veau\": 300,                                        # per cut\n",
    "    \"tomates concassées\": 400,                                         # per can\n",
    "    \"râble de lapin\": 250,                                             # per rack\n",
    "    \"pomme de terre\": 150,                                             # per potato\n",
    "    \"yaourts\": 125,                                                    # per pot\n",
    "    \"bananes\": 120,                                                    # per banana\n",
    "    \"tomates confites à l’huile\": 50,                                    # per jar portion\n",
    "    \"coeurs de canard\": 50,                                               # per heart\n",
    "    \"mangue\": 300,                                                        # per mango\n",
    "    \"râbles de lapin\": 250,                                               # per rack\n",
    "    \"boeuf\": 200,                                                         # per portion\n",
    "    \"côtes de veau\": 300,                                                 # per chop\n",
    "    \"jarrets de veau\": 400,                                               # per shank\n",
    "    \"tomates séchées\": 10,                                                # per small portion\n",
    "    \"foie gras de canard du sud-ouest cru surgelé\": 150,                  # per block\n",
    "    \"ris de veau\": 300,                                                   # per portion\n",
    "    \"banane\": 120,                                                        # per banana\n",
    "    \"tomates cerise\": 20,                                                 # per cherry\n",
    "    \"cuisse de canard\": 300,                                              # per leg\n",
    "    \"blanc de poireau\": 50                                                # per section\n",
    "}\n"
   ]
  },
  {
   "cell_type": "code",
   "execution_count": 16,
   "id": "228c876f",
   "metadata": {},
   "outputs": [],
   "source": [
    "spec_ing = add_weights(spec_ing, spec_ing_weights_non_vege)"
   ]
  },
  {
   "cell_type": "code",
   "execution_count": 17,
   "id": "e2f6ed9d",
   "metadata": {},
   "outputs": [
    {
     "data": {
      "text/plain": [
       "1079"
      ]
     },
     "execution_count": 17,
     "metadata": {},
     "output_type": "execute_result"
    }
   ],
   "source": [
    "standalized_recipes = standardize_recipes(filtered_recipes, spec_ing)\n",
    "len(standalized_recipes)"
   ]
  },
  {
   "cell_type": "code",
   "execution_count": 18,
   "id": "a322c12e",
   "metadata": {},
   "outputs": [],
   "source": [
    "# Check\n",
    "with open(OUTPUT_FILE, \"w\", encoding=\"utf-8\") as f:\n",
    "    json.dump(standalized_recipes, f, ensure_ascii=False, indent=4)"
   ]
  },
  {
   "cell_type": "markdown",
   "id": "58e20376",
   "metadata": {},
   "source": [
    "## Calculate ECV based on unit and quantity"
   ]
  },
  {
   "cell_type": "code",
   "execution_count": 19,
   "id": "5c231fff",
   "metadata": {},
   "outputs": [
    {
     "data": {
      "text/plain": [
       "1079"
      ]
     },
     "execution_count": 19,
     "metadata": {},
     "output_type": "execute_result"
    }
   ],
   "source": [
    "standalized_recipes = scale_ecv(standalized_recipes)\n",
    "len(standalized_recipes)"
   ]
  },
  {
   "cell_type": "code",
   "execution_count": 20,
   "id": "b92da45d",
   "metadata": {},
   "outputs": [],
   "source": [
    "# Check\n",
    "with open(OUTPUT_FILE, \"w\", encoding=\"utf-8\") as f:\n",
    "    json.dump(standalized_recipes, f, ensure_ascii=False, indent=4)"
   ]
  },
  {
   "cell_type": "markdown",
   "id": "669e8eae",
   "metadata": {},
   "source": [
    "# Same procedure for recipes vegetarian"
   ]
  },
  {
   "cell_type": "code",
   "execution_count": 21,
   "id": "57d40160",
   "metadata": {},
   "outputs": [],
   "source": [
    "RECIPES_FILE = DATA_DIR / \"recipes_vege.json\"\n",
    "OUTPUT_FILE = DATA_DIR / \"recipes_vege_with_ecv.json\""
   ]
  },
  {
   "cell_type": "code",
   "execution_count": 22,
   "id": "0ffdae9b",
   "metadata": {},
   "outputs": [
    {
     "data": {
      "text/plain": [
       "1755"
      ]
     },
     "execution_count": 22,
     "metadata": {},
     "output_type": "execute_result"
    }
   ],
   "source": [
    "with open(RECIPES_FILE, \"r\", encoding=\"utf-8\") as f:\n",
    "    recipes = json.load(f)\n",
    "\n",
    "len(recipes)"
   ]
  },
  {
   "cell_type": "code",
   "execution_count": 23,
   "id": "67c2798c",
   "metadata": {},
   "outputs": [
    {
     "name": "stdout",
     "output_type": "stream",
     "text": [
      "1147\n"
     ]
    }
   ],
   "source": [
    "filtered_recipes = filter_recipes_based_on_ecv(recipes, ecv_dict)\n",
    "print(len(filtered_recipes))"
   ]
  },
  {
   "cell_type": "code",
   "execution_count": 24,
   "id": "26f70cad",
   "metadata": {},
   "outputs": [
    {
     "name": "stdout",
     "output_type": "stream",
     "text": [
      "1021\n"
     ]
    }
   ],
   "source": [
    "filtered_recipes = filter_recipes(filtered_recipes, ecv_data, is_vege=True)\n",
    "print(len(filtered_recipes))"
   ]
  },
  {
   "cell_type": "code",
   "execution_count": 25,
   "id": "504a34e8",
   "metadata": {},
   "outputs": [],
   "source": [
    "# Check\n",
    "with open(OUTPUT_FILE, \"w\", encoding=\"utf-8\") as f:\n",
    "    json.dump(filtered_recipes, f, ensure_ascii=False, indent=4)"
   ]
  },
  {
   "cell_type": "code",
   "execution_count": 26,
   "id": "761b8a75",
   "metadata": {},
   "outputs": [
    {
     "data": {
      "text/plain": [
       "97"
      ]
     },
     "execution_count": 26,
     "metadata": {},
     "output_type": "execute_result"
    }
   ],
   "source": [
    "# Check unique ingredients in all recipes\n",
    "unique_ing = get_unique_ingredients(filtered_recipes)\n",
    "len(unique_ing)"
   ]
  },
  {
   "cell_type": "code",
   "execution_count": 27,
   "id": "8afac883",
   "metadata": {},
   "outputs": [
    {
     "data": {
      "text/plain": [
       "1021"
      ]
     },
     "execution_count": 27,
     "metadata": {},
     "output_type": "execute_result"
    }
   ],
   "source": [
    "filtered_recipes = normalize_ingredients(filtered_recipes)\n",
    "len(filtered_recipes)"
   ]
  },
  {
   "cell_type": "code",
   "execution_count": 28,
   "id": "cc409102",
   "metadata": {},
   "outputs": [],
   "source": [
    "# Check\n",
    "with open(OUTPUT_FILE, \"w\", encoding=\"utf-8\") as f:\n",
    "    json.dump(filtered_recipes, f, ensure_ascii=False, indent=4)"
   ]
  },
  {
   "cell_type": "code",
   "execution_count": 29,
   "id": "51ce8ebf",
   "metadata": {},
   "outputs": [
    {
     "data": {
      "text/plain": [
       "969"
      ]
     },
     "execution_count": 29,
     "metadata": {},
     "output_type": "execute_result"
    }
   ],
   "source": [
    "# filter non vege\n",
    "filtered_recipes = filter_recipes(filtered_recipes, ecv_data, is_vege=True)\n",
    "len(filtered_recipes)"
   ]
  },
  {
   "cell_type": "code",
   "execution_count": 30,
   "id": "281b9a3f",
   "metadata": {},
   "outputs": [],
   "source": [
    "# Check\n",
    "with open(OUTPUT_FILE, \"w\", encoding=\"utf-8\") as f:\n",
    "    json.dump(filtered_recipes, f, ensure_ascii=False, indent=4)"
   ]
  },
  {
   "cell_type": "code",
   "execution_count": 31,
   "id": "663bddd4",
   "metadata": {},
   "outputs": [],
   "source": [
    "# Check unique ingredients in all recipes\n",
    "unique_ing = get_unique_ingredients(filtered_recipes)"
   ]
  },
  {
   "cell_type": "code",
   "execution_count": 32,
   "id": "8c7f6821",
   "metadata": {},
   "outputs": [
    {
     "name": "stdout",
     "output_type": "stream",
     "text": [
      "Total unique ingredients: 55\n"
     ]
    }
   ],
   "source": [
    "spec_ing = extract_spec_ingredients(filtered_recipes)\n",
    "print(f\"Total unique ingredients: {len(spec_ing)}\")"
   ]
  },
  {
   "cell_type": "code",
   "execution_count": 33,
   "id": "4d05e53a",
   "metadata": {},
   "outputs": [],
   "source": [
    "spec_ing_weights_vege = {\n",
    "    \"tomates\": 100,                               # per tomato\n",
    "    \"courgettes\": 200,                             # per zucchini\n",
    "    \"poireau\": 150,                                # per leek\n",
    "    \"carottes\": 70,                                # per carrot\n",
    "    \"pommes de terre\": 150,                        # per potato\n",
    "    \"oeuf\": 60,                                    # per egg\n",
    "    \"carotte\": 70,                                 # per carrot\n",
    "    \"tomate\": 100,                                 # per tomato\n",
    "    \"courgette\": 200,                              # per zucchini\n",
    "    \"oeufs\": 60,                                   # per egg\n",
    "    \"bananes\": 120,                                # per banana\n",
    "    \"poireaux\": 150,                               # per leek\n",
    "    \"pomme de terre\": 150,                         # per potato\n",
    "    \"pâte à pizza\": 400,                           # per dough base\n",
    "    \"pommes\": 150,                                 # per apple\n",
    "    \"avocat\": 200,                                 # per avocado\n",
    "    \"tomates séchées à l'huile d'olive\": 10,       # per small portion\n",
    "    \"feuilles de riz\": 10,                         # per sheet\n",
    "    \"banane\": 120,                                 # per banana\n",
    "    \"jaunes d'oeuf\": 18,                           # per yolk\n",
    "    \"baguette\": 250,                               # per loaf\n",
    "    \"yaourt à la grecque\": 150,                    # per pot\n",
    "    \"sauce tomate\": 400,                            # per jar\n",
    "    \"jaune d'oeuf\": 18,                            # per yolk\n",
    "    \"tomates cerise\": 20,                           # per cherry\n",
    "    \"tomates séchées\": 10,                          # per small portion\n",
    "    \"yaourts natures\": 125,                         # per pot\n",
    "    \"blette\": 200,                                 # per bunch\n",
    "    \"peau de banane\": 50,                           # per banana\n",
    "    \"mangues\": 300,                                # per mango\n",
    "    \"pomme\": 150,                                  # per apple\n",
    "    \"yaourt bulgare\": 125,                          # per pot\n",
    "    \"galettes de riz\": 10,                          # per rice cake\n",
    "    \"blancs d'oeuf\": 30,                            # per egg white\n",
    "    \"avocats\": 200,                                # per avocado\n",
    "    \"yaourt nature\": 125,                            # per pot\n",
    "    \"double concentré de tomates\": 50,             # per tube\n",
    "    \"sirop d'érable\": 20,                           # per tablespoon\n",
    "    \"beurre tendre\": 10,                             # per pat\n",
    "    \"potiron\": 400,                                 # per small pumpkin portion\n",
    "    \"tofu\": 200,                                     # per block\n",
    "    \"mangue\": 300,                                  # per mango\n",
    "    \"beurre\": 10,                                   # per pat\n",
    "    \"carotte pourpre\": 70,                           # per carrot\n",
    "    \"vermicelles de riz\": 80,                        # per 100g dry\n",
    "    \"yaourt\": 125,                                   # per pot\n",
    "    \"blanc d'oeuf\": 30,                              # per egg white\n",
    "    \"yaourt brassé\": 125,                             # per pot\n",
    "    \"tomates pelées\": 400,                             # per can\n",
    "    \"blanc de poireau\": 50,                             # per section\n",
    "    \"laitue\": 200,                                     # per head\n",
    "    \"yaourts\": 125,                                     # per pot\n",
    "    \"petits beurre\": 10,                                # per cookie\n",
    "    \"yaourts brassés\": 125,                              # per pot\n",
    "    \"beurre allégé\": 10,                                 # per pat\n",
    "    \"beurre demi-sel\": 10,                               # per pat\n",
    "    \"purée de tomate\": 400                                # per can\n",
    "}\n"
   ]
  },
  {
   "cell_type": "code",
   "execution_count": 34,
   "id": "05e14702",
   "metadata": {},
   "outputs": [],
   "source": [
    "spec_ing = add_weights(spec_ing, spec_ing_weights_vege)"
   ]
  },
  {
   "cell_type": "code",
   "execution_count": 35,
   "id": "9cd57445",
   "metadata": {},
   "outputs": [
    {
     "data": {
      "text/plain": [
       "969"
      ]
     },
     "execution_count": 35,
     "metadata": {},
     "output_type": "execute_result"
    }
   ],
   "source": [
    "standalized_recipes = standardize_recipes(filtered_recipes, spec_ing)\n",
    "len(standalized_recipes)"
   ]
  },
  {
   "cell_type": "code",
   "execution_count": 36,
   "id": "b2eba9d2",
   "metadata": {},
   "outputs": [],
   "source": [
    "standalized_recipes = scale_ecv(standalized_recipes)"
   ]
  },
  {
   "cell_type": "code",
   "execution_count": 37,
   "id": "03723bc8",
   "metadata": {},
   "outputs": [],
   "source": [
    "# Check\n",
    "with open(OUTPUT_FILE, \"w\", encoding=\"utf-8\") as f:\n",
    "    json.dump(standalized_recipes, f, ensure_ascii=False, indent=4)"
   ]
  }
 ],
 "metadata": {
  "kernelspec": {
   "display_name": "venv",
   "language": "python",
   "name": "python3"
  },
  "language_info": {
   "codemirror_mode": {
    "name": "ipython",
    "version": 3
   },
   "file_extension": ".py",
   "mimetype": "text/x-python",
   "name": "python",
   "nbconvert_exporter": "python",
   "pygments_lexer": "ipython3",
   "version": "3.13.4"
  }
 },
 "nbformat": 4,
 "nbformat_minor": 5
}
