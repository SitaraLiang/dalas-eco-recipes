{
 "cells": [
  {
   "cell_type": "markdown",
   "id": "94719511",
   "metadata": {},
   "source": [
    "# Preprocessing data with ecv and nutritional metrics "
   ]
  },
  {
   "cell_type": "markdown",
   "id": "02cebcb2",
   "metadata": {
    "vscode": {
     "languageId": "plaintext"
    }
   },
   "source": [
    "### Objective\n",
    "\n",
    "The objective of this notebook is to preprocess the data through the following five steps:\n",
    "\n",
    "1. Handling Missing Data\n",
    "2. Exploratory Data Analysis (EDA)\n",
    "3. Data Visualization and PCA\n",
    "4. Outlier Detection\n",
    "5. Bias Detection\n"
   ]
  },
  {
   "cell_type": "code",
   "execution_count": 1,
   "id": "cd51a9c2",
   "metadata": {},
   "outputs": [],
   "source": [
    "import pandas as pd\n",
    "import requests\n",
    "from pathlib import Path\n",
    "import json\n",
    "import sys\n",
    "\n",
    "from pathlib import Path\n",
    "import sys\n",
    "\n",
    "project_root = Path.cwd().parent\n",
    "sys.path.append(str(project_root))\n",
    "\n",
    "from src.utils import *"
   ]
  },
  {
   "cell_type": "code",
   "execution_count": 2,
   "id": "60a7fa73",
   "metadata": {},
   "outputs": [],
   "source": [
    "DATA_DIR = Path(project_root / \"data\")\n",
    "RECIPES_FILE = DATA_DIR / \"all_recipes_clean.json\""
   ]
  },
  {
   "cell_type": "code",
   "execution_count": 3,
   "id": "0f7e34d1",
   "metadata": {},
   "outputs": [],
   "source": [
    "with open(RECIPES_FILE, \"r\", encoding=\"utf-8\") as f:\n",
    "    recipes = json.load(f)\n",
    "\n",
    "df = pd.DataFrame(recipes)"
   ]
  },
  {
   "cell_type": "markdown",
   "id": "c968cbc0",
   "metadata": {},
   "source": [
    "## 1. Handling missing data "
   ]
  },
  {
   "cell_type": "code",
   "execution_count": 4,
   "id": "8bafc411",
   "metadata": {},
   "outputs": [
    {
     "data": {
      "text/html": [
       "<div>\n",
       "<style scoped>\n",
       "    .dataframe tbody tr th:only-of-type {\n",
       "        vertical-align: middle;\n",
       "    }\n",
       "\n",
       "    .dataframe tbody tr th {\n",
       "        vertical-align: top;\n",
       "    }\n",
       "\n",
       "    .dataframe thead th {\n",
       "        text-align: right;\n",
       "    }\n",
       "</style>\n",
       "<table border=\"1\" class=\"dataframe\">\n",
       "  <thead>\n",
       "    <tr style=\"text-align: right;\">\n",
       "      <th></th>\n",
       "      <th>contain missing data</th>\n",
       "      <th>missing_frequency</th>\n",
       "    </tr>\n",
       "  </thead>\n",
       "  <tbody>\n",
       "    <tr>\n",
       "      <th>title</th>\n",
       "      <td>False</td>\n",
       "      <td>0.0</td>\n",
       "    </tr>\n",
       "    <tr>\n",
       "      <th>url</th>\n",
       "      <td>False</td>\n",
       "      <td>0.0</td>\n",
       "    </tr>\n",
       "    <tr>\n",
       "      <th>rating</th>\n",
       "      <td>False</td>\n",
       "      <td>0.0</td>\n",
       "    </tr>\n",
       "    <tr>\n",
       "      <th>ingredients</th>\n",
       "      <td>False</td>\n",
       "      <td>0.0</td>\n",
       "    </tr>\n",
       "    <tr>\n",
       "      <th>total_ecv</th>\n",
       "      <td>False</td>\n",
       "      <td>0.0</td>\n",
       "    </tr>\n",
       "    <tr>\n",
       "      <th>total_kcal</th>\n",
       "      <td>False</td>\n",
       "      <td>0.0</td>\n",
       "    </tr>\n",
       "    <tr>\n",
       "      <th>total_protein</th>\n",
       "      <td>False</td>\n",
       "      <td>0.0</td>\n",
       "    </tr>\n",
       "    <tr>\n",
       "      <th>total_fat</th>\n",
       "      <td>False</td>\n",
       "      <td>0.0</td>\n",
       "    </tr>\n",
       "    <tr>\n",
       "      <th>is_vege</th>\n",
       "      <td>False</td>\n",
       "      <td>0.0</td>\n",
       "    </tr>\n",
       "  </tbody>\n",
       "</table>\n",
       "</div>"
      ],
      "text/plain": [
       "               contain missing data  missing_frequency\n",
       "title                         False                0.0\n",
       "url                           False                0.0\n",
       "rating                        False                0.0\n",
       "ingredients                   False                0.0\n",
       "total_ecv                     False                0.0\n",
       "total_kcal                    False                0.0\n",
       "total_protein                 False                0.0\n",
       "total_fat                     False                0.0\n",
       "is_vege                       False                0.0"
      ]
     },
     "metadata": {},
     "output_type": "display_data"
    }
   ],
   "source": [
    "col_missing = pd.DataFrame({\n",
    "    \"contain missing data\": df.isna().sum() != 0,\n",
    "    \"missing_frequency\": df.isna().mean() * 100\n",
    "})\n",
    "display(col_missing)"
   ]
  },
  {
   "cell_type": "markdown",
   "id": "04ce29d7",
   "metadata": {},
   "source": [
    "## 2. Exploratory Data Analysis (EDA)"
   ]
  },
  {
   "cell_type": "code",
   "execution_count": 5,
   "id": "ab7e91fa",
   "metadata": {},
   "outputs": [
    {
     "name": "stdout",
     "output_type": "stream",
     "text": [
      "Shape (rows, cols): (2049, 9)\n",
      "Number of elements: 18441\n",
      "title             object\n",
      "url               object\n",
      "rating           float64\n",
      "ingredients       object\n",
      "total_ecv        float64\n",
      "total_kcal       float64\n",
      "total_protein    float64\n",
      "total_fat        float64\n",
      "is_vege            int64\n",
      "dtype: object\n",
      "            rating    total_ecv    total_kcal  total_protein    total_fat  \\\n",
      "count  2049.000000  2049.000000   2049.000000    2049.000000  2049.000000   \n",
      "mean      3.566227     4.365994   1265.643879      79.710559    85.482191   \n",
      "std       1.823196     8.337738   1824.189617     107.385338   161.573932   \n",
      "min       0.000000    -0.079133    -59.333333      -0.721111    -6.170000   \n",
      "25%       3.300000     0.280811    284.836364      20.468586    12.927273   \n",
      "50%       4.400000     1.341192    584.200000      40.771010    25.334545   \n",
      "75%       4.800000     4.250361   1373.316667      94.759394    75.062500   \n",
      "max       5.000000    70.944551  13396.533333     872.433766  1330.613333   \n",
      "\n",
      "           is_vege  \n",
      "count  2049.000000  \n",
      "mean      0.475842  \n",
      "std       0.499538  \n",
      "min       0.000000  \n",
      "25%       0.000000  \n",
      "50%       0.000000  \n",
      "75%       1.000000  \n",
      "max       1.000000  \n",
      "0       [{'ingredient_name': 'tomates', 'quantity': 20...\n",
      "1       [{'ingredient_name': 'poireau', 'quantity': 15...\n",
      "2       [{'ingredient_name': 'carotte', 'quantity': 40...\n",
      "3       [{'ingredient_name': 'oeuf', 'quantity': 60.0,...\n",
      "4       [{'ingredient_name': 'beurre', 'quantity': 20....\n",
      "                              ...                        \n",
      "2044    [{'ingredient_name': 'carottes', 'quantity': 1...\n",
      "2045    [{'ingredient_name': 'beurre', 'quantity': 100...\n",
      "2046    [{'ingredient_name': 'beurre', 'quantity': 40....\n",
      "2047    [{'ingredient_name': 'tomates', 'quantity': 20...\n",
      "2048    [{'ingredient_name': 'carotte', 'quantity': 15...\n",
      "Name: ingredients, Length: 2049, dtype: object\n"
     ]
    }
   ],
   "source": [
    "print(\"Shape (rows, cols):\", df.shape)\n",
    "print(\"Number of elements:\", df.size)\n",
    "print(df.dtypes)\n",
    "print(df.describe())\n",
    "print(df[\"ingredients\"])"
   ]
  },
  {
   "cell_type": "code",
   "execution_count": null,
   "id": "986dfbe6",
   "metadata": {},
   "outputs": [],
   "source": []
  }
 ],
 "metadata": {
  "kernelspec": {
   "display_name": "venv",
   "language": "python",
   "name": "python3"
  },
  "language_info": {
   "codemirror_mode": {
    "name": "ipython",
    "version": 3
   },
   "file_extension": ".py",
   "mimetype": "text/x-python",
   "name": "python",
   "nbconvert_exporter": "python",
   "pygments_lexer": "ipython3",
   "version": "3.13.4"
  }
 },
 "nbformat": 4,
 "nbformat_minor": 5
}
