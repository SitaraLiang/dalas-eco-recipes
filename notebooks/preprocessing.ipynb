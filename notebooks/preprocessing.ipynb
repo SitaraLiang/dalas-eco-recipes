{
 "cells": [
  {
   "cell_type": "markdown",
   "id": "cef53c23",
   "metadata": {},
   "source": [
    "# Data cleaning for non vege recipes"
   ]
  },
  {
   "cell_type": "code",
   "execution_count": 1,
   "id": "55b41670",
   "metadata": {},
   "outputs": [],
   "source": [
    "import pandas as pd\n",
    "import requests\n",
    "from pathlib import Path\n",
    "import json\n",
    "from src.utils import *"
   ]
  },
  {
   "cell_type": "code",
   "execution_count": 2,
   "id": "a1ff82b8",
   "metadata": {},
   "outputs": [],
   "source": [
    "DATA_DIR = Path(\"data\")\n",
    "RECIPES_FILE = DATA_DIR / \"recipes_non_vege.json\"\n",
    "ECV_FILE = DATA_DIR / \"impact_co2.json\"\n",
    "OUTPUT_FILE = DATA_DIR / \"recipes_non_vege_with_ecv.json\"\n",
    "\n",
    "AGRIBALYSE_API_URL = \"https://impactco2.fr/api/v1/alimentation?category=group&language=fr\""
   ]
  },
  {
   "cell_type": "markdown",
   "id": "2b420ed5",
   "metadata": {},
   "source": [
    "#### Get the raw recipes dataset"
   ]
  },
  {
   "cell_type": "code",
   "execution_count": 3,
   "id": "267cdb98",
   "metadata": {},
   "outputs": [
    {
     "data": {
      "text/plain": [
       "2037"
      ]
     },
     "execution_count": 3,
     "metadata": {},
     "output_type": "execute_result"
    }
   ],
   "source": [
    "with open(RECIPES_FILE, \"r\", encoding=\"utf-8\") as f:\n",
    "    recipes = json.load(f)\n",
    "\n",
    "len(recipes)"
   ]
  },
  {
   "cell_type": "markdown",
   "id": "6185e693",
   "metadata": {},
   "source": [
    "#### Get the Agribalyse API"
   ]
  },
  {
   "cell_type": "code",
   "execution_count": 4,
   "id": "14917f3b",
   "metadata": {},
   "outputs": [],
   "source": [
    "if not (ECV_FILE).exists():\n",
    "    response = requests.get(AGRIBALYSE_API_URL)\n",
    "    if response.status_code == 200:\n",
    "        ecv_data = response.json()  # converts the response to a Python dictionary\n",
    "        with open(DATA_DIR / \"impact_co2.json\", \"w\", encoding=\"utf-8\") as f:\n",
    "            json.dump(ecv_data, f, ensure_ascii=False, indent=4)\n",
    "else:\n",
    "    with open(ECV_FILE, \"r\", encoding=\"utf-8\") as f:\n",
    "        ecv_data = json.load(f)"
   ]
  },
  {
   "cell_type": "code",
   "execution_count": 5,
   "id": "2fd8d67c",
   "metadata": {},
   "outputs": [],
   "source": [
    "# Flatten CO2 reference to a dict: slug -> ecv\n",
    "ecv_dict = {}\n",
    "for category in ecv_data[\"data\"]:\n",
    "    for item in category[\"items\"]:\n",
    "        ecv_dict[item[\"slug\"].lower()] = item[\"ecv\"]"
   ]
  },
  {
   "cell_type": "markdown",
   "id": "030c53e2",
   "metadata": {},
   "source": [
    "## 1. Filter all ingredients which doesn't exist in Agribalyse database"
   ]
  },
  {
   "cell_type": "code",
   "execution_count": 6,
   "id": "8c7e5894",
   "metadata": {},
   "outputs": [
    {
     "name": "stdout",
     "output_type": "stream",
     "text": [
      "1782\n"
     ]
    }
   ],
   "source": [
    "filtered_recipes = filter_recipes_based_on_ecv(recipes, ecv_dict)\n",
    "print(len(filtered_recipes))"
   ]
  },
  {
   "cell_type": "markdown",
   "id": "33607903",
   "metadata": {},
   "source": [
    "## 2.Filter all vegetarian recipes"
   ]
  },
  {
   "cell_type": "code",
   "execution_count": 7,
   "id": "bf221fca",
   "metadata": {},
   "outputs": [
    {
     "name": "stdout",
     "output_type": "stream",
     "text": [
      "1190\n"
     ]
    }
   ],
   "source": [
    "filtered_recipes = filter_recipes(filtered_recipes, ecv_data, is_vege=False)\n",
    "print(len(filtered_recipes))"
   ]
  },
  {
   "cell_type": "code",
   "execution_count": 8,
   "id": "3836e24b",
   "metadata": {},
   "outputs": [],
   "source": [
    "# Check\n",
    "with open(OUTPUT_FILE, \"w\", encoding=\"utf-8\") as f:\n",
    "    json.dump(filtered_recipes, f, ensure_ascii=False, indent=4)"
   ]
  },
  {
   "cell_type": "code",
   "execution_count": 9,
   "id": "45622efc",
   "metadata": {},
   "outputs": [
    {
     "data": {
      "text/plain": [
       "169"
      ]
     },
     "execution_count": 9,
     "metadata": {},
     "output_type": "execute_result"
    }
   ],
   "source": [
    "# Check unique ingredients in all recipes\n",
    "unique_ing = get_unique_ingredients(filtered_recipes)\n",
    "len(unique_ing)"
   ]
  },
  {
   "cell_type": "markdown",
   "id": "dc21b409",
   "metadata": {},
   "source": [
    "## 3.Standalize the Unity et Quantity"
   ]
  },
  {
   "cell_type": "code",
   "execution_count": 10,
   "id": "0ccecccc",
   "metadata": {},
   "outputs": [
    {
     "data": {
      "text/plain": [
       "1190"
      ]
     },
     "execution_count": 10,
     "metadata": {},
     "output_type": "execute_result"
    }
   ],
   "source": [
    "filtered_recipes = normalize_ingredients(filtered_recipes)\n",
    "len(filtered_recipes)"
   ]
  },
  {
   "cell_type": "code",
   "execution_count": 11,
   "id": "5e1978d8",
   "metadata": {},
   "outputs": [
    {
     "data": {
      "text/plain": [
       "1079"
      ]
     },
     "execution_count": 11,
     "metadata": {},
     "output_type": "execute_result"
    }
   ],
   "source": [
    "# filter vege\n",
    "filtered_recipes = filter_recipes(filtered_recipes, ecv_data, is_vege=False)\n",
    "len(filtered_recipes)"
   ]
  },
  {
   "cell_type": "code",
   "execution_count": 12,
   "id": "0e374521",
   "metadata": {},
   "outputs": [],
   "source": [
    "# Check\n",
    "with open(OUTPUT_FILE, \"w\", encoding=\"utf-8\") as f:\n",
    "    json.dump(filtered_recipes, f, ensure_ascii=False, indent=4)"
   ]
  },
  {
   "cell_type": "code",
   "execution_count": 13,
   "id": "3fe8d6e8",
   "metadata": {},
   "outputs": [
    {
     "data": {
      "text/plain": [
       "149"
      ]
     },
     "execution_count": 13,
     "metadata": {},
     "output_type": "execute_result"
    }
   ],
   "source": [
    "# Check unique ingredients in all recipes\n",
    "unique_ing = get_unique_ingredients(filtered_recipes)\n",
    "len(unique_ing)"
   ]
  },
  {
   "cell_type": "code",
   "execution_count": 14,
   "id": "24082a6e",
   "metadata": {},
   "outputs": [
    {
     "name": "stdout",
     "output_type": "stream",
     "text": [
      "Total unique ingredients: 102\n"
     ]
    }
   ],
   "source": [
    "spec_ing = extract_spec_ingredients(filtered_recipes)\n",
    "print(f\"Total unique ingredients: {len(spec_ing)}\")\n",
    "#print(spec_ing)"
   ]
  },
  {
   "cell_type": "code",
   "execution_count": 15,
   "id": "d149c0b3",
   "metadata": {},
   "outputs": [],
   "source": [
    "spec_ing_weights_non_vege = {\n",
    "    \"poulet\": 150,                                 # generic portion\n",
    "    \"tomates pelées\": 400,                          # per can\n",
    "    \"moules\": 20,                                  # per mussel\n",
    "    \"crevettes roses\": 20,                          # per shrimp\n",
    "    \"avocat\": 200,                                 # per avocado\n",
    "    \"travers de porc\": 200,                          # per rack\n",
    "    \"oignons nouveaux\": 30,                         # per onion\n",
    "    \"escalopes de porc\": 150,                        # per escalope\n",
    "    \"galettes de riz\": 10,                           # per rice cake\n",
    "    \"rôti de porc\": 1800,                            # per roast\n",
    "    \"cuisses de lapin\": 250,                          # per leg\n",
    "    \"boeuf haché\": 200,                               # per portion\n",
    "    \"magrets de canard\": 350,                         # per breast\n",
    "    \"saumon\": 200,                                   # per fillet\n",
    "    \"crevettes\": 20,                                 # per shrimp\n",
    "    \"saumon fumé\": 50,                               # per slice\n",
    "    \"yaourt nature\": 125,                             # per pot\n",
    "    \"mangues\": 300,                                  # per mango\n",
    "    \"carottes\": 70,                                  # per carrot\n",
    "    \"beurre doux\": 10,                                # per pat\n",
    "    \"jaunes d'oeuf\": 18,                              # per yolk\n",
    "    \"blancs de poulet\": 150,                           # per piece\n",
    "    \"oeuf\": 60,                                      # per egg\n",
    "    \"jaune d'oeuf\": 18,                               # per yolk\n",
    "    \"cuisses de poulet\": 250,                          # per leg\n",
    "    \"rôti de veau\": 1800,                              # per roast\n",
    "    \"paupiettes de veau\": 200,                         # per piece\n",
    "    \"côte de boeuf\": 300,                              # per steak\n",
    "    \"escalopes de poulet\": 150,                         # per escalope\n",
    "    \"filets de poulet\": 150,                            # per fillet\n",
    "    \"porc\": 150,                                       # generic portion\n",
    "    \"pommes de terre\": 150,                             # per potato\n",
    "    \"courgette\": 200,                                   # per zucchini\n",
    "    \"carotte\": 70,                                      # per carrot\n",
    "    \"lapin\": 200,                                       # per piece\n",
    "    \"côte de porc\": 200,                                # per chop\n",
    "    \"tête de veau\": 1200,                               # whole head\n",
    "    \"tomates\": 100,                                     # per tomato\n",
    "    \"escalopes de veau\": 150,                             # per escalope\n",
    "    \"chorizo\": 50,                                      # per link slice\n",
    "    \"blancs d'oeuf\": 30,                                # per egg white\n",
    "    \"cuisses de canard\": 300,                            # per leg\n",
    "    \"yaourt\": 125,                                      # per pot\n",
    "    \"beurre\": 10,                                       # per pat\n",
    "    \"échine de porc\": 200,                               # per portion\n",
    "    \"côtes de porc\": 200,                                # per chop\n",
    "    \"joue de porc\": 80,                                  # per cheek\n",
    "    \"pieds de veau\": 300,                                # per foot\n",
    "    \"poireau\": 150,                                     # per leek\n",
    "    \"magret de canard\": 350,                             # per breast\n",
    "    \"oeufs\": 60,                                         # per egg\n",
    "    \"tomate\": 100,                                       # per tomato\n",
    "    \"poulet de 1,3 à 1,4 kg u\": 1350,                   # whole chicken in range\n",
    "    \"canard\": 1200,                                      # per whole duck\n",
    "    \"fond de veau\": 250,                                 # per package\n",
    "    \"jarrets de porc\": 400,                               # per shank\n",
    "    \"rôti de boeuf\": 1800,                                # per roast\n",
    "    \"pomme\": 150,                                         # per apple\n",
    "    \"ailes de poulet\": 50,                                 # per wing\n",
    "    \"courgettes\": 200,                                     # per zucchini\n",
    "    \"pied de veau\": 300,                                   # per foot\n",
    "    \"poulets\": 1200,                                       # per whole chicken\n",
    "    \"langue de veau\": 400,                                  # per tongue\n",
    "    \"pilons de poulet\": 200,                                # per drumstick\n",
    "    \"rognon de veau\": 100,                                  # per kidney\n",
    "    \"poireaux\": 150,                                        # per leek\n",
    "    \"lieu noir\": 200,                                        # per fillet\n",
    "    \"blanc de poulet\": 150,                                   # per piece\n",
    "    \"pâte à pizza\": 400,                                       # per dough base\n",
    "    \"veau\": 200,                                               # per portion\n",
    "    \"riz\": 200,                                                # per cup cooked\n",
    "    \"langues de veau\": 400,                                     # per two tongues\n",
    "    \"bouillon de boeuf\": 250,                                    # per carton\n",
    "    \"filet de poulet\": 150,                                       # per fillet\n",
    "    \"rognons de veau\": 100,                                        # per pair\n",
    "    \"lapin entier\": 1200,                                          # per whole rabbit\n",
    "    \"petit os de veau\": 100,                                        # per small os\n",
    "    \"escalope de poulet\": 150,                                      # per escalope\n",
    "    \"yaourts brassés\": 125,                                         # per pot\n",
    "    \"aiguillettes de poulet\": 100,                                   # per portion\n",
    "    \"poulet entier\": 1300,                                           # per whole chicken\n",
    "    \"osso bucco de veau\": 300,                                        # per cut\n",
    "    \"tomates concassées\": 400,                                         # per can\n",
    "    \"râble de lapin\": 250,                                             # per rack\n",
    "    \"pomme de terre\": 150,                                             # per potato\n",
    "    \"yaourts\": 125,                                                    # per pot\n",
    "    \"bananes\": 120,                                                    # per banana\n",
    "    \"tomates confites à l’huile\": 50,                                    # per jar portion\n",
    "    \"coeurs de canard\": 50,                                               # per heart\n",
    "    \"mangue\": 300,                                                        # per mango\n",
    "    \"râbles de lapin\": 250,                                               # per rack\n",
    "    \"boeuf\": 200,                                                         # per portion\n",
    "    \"côtes de veau\": 300,                                                 # per chop\n",
    "    \"jarrets de veau\": 400,                                               # per shank\n",
    "    \"tomates séchées\": 10,                                                # per small portion\n",
    "    \"foie gras de canard du sud-ouest cru surgelé\": 150,                  # per block\n",
    "    \"ris de veau\": 300,                                                   # per portion\n",
    "    \"banane\": 120,                                                        # per banana\n",
    "    \"tomates cerise\": 20,                                                 # per cherry\n",
    "    \"cuisse de canard\": 300,                                              # per leg\n",
    "    \"blanc de poireau\": 50                                                # per section\n",
    "}\n"
   ]
  },
  {
   "cell_type": "code",
   "execution_count": 16,
   "id": "228c876f",
   "metadata": {},
   "outputs": [],
   "source": [
    "spec_ing = add_weights(spec_ing, spec_ing_weights_non_vege)"
   ]
  },
  {
   "cell_type": "code",
   "execution_count": 17,
   "id": "e2f6ed9d",
   "metadata": {},
   "outputs": [
    {
     "data": {
      "text/plain": [
       "1079"
      ]
     },
     "execution_count": 17,
     "metadata": {},
     "output_type": "execute_result"
    }
   ],
   "source": [
    "standalized_recipes = standardize_recipes(filtered_recipes, spec_ing)\n",
    "len(standalized_recipes)"
   ]
  },
  {
   "cell_type": "code",
   "execution_count": 18,
   "id": "a322c12e",
   "metadata": {},
   "outputs": [],
   "source": [
    "# Check\n",
    "with open(OUTPUT_FILE, \"w\", encoding=\"utf-8\") as f:\n",
    "    json.dump(standalized_recipes, f, ensure_ascii=False, indent=4)"
   ]
  },
  {
   "cell_type": "markdown",
   "id": "58e20376",
   "metadata": {},
   "source": [
    "## 4.Calculate ECV based on unit and quantity"
   ]
  },
  {
   "cell_type": "code",
   "execution_count": 19,
   "id": "5c231fff",
   "metadata": {},
   "outputs": [
    {
     "data": {
      "text/plain": [
       "1079"
      ]
     },
     "execution_count": 19,
     "metadata": {},
     "output_type": "execute_result"
    }
   ],
   "source": [
    "standalized_recipes = scale_ecv(standalized_recipes)\n",
    "len(standalized_recipes)"
   ]
  },
  {
   "cell_type": "code",
   "execution_count": 20,
   "id": "b92da45d",
   "metadata": {},
   "outputs": [],
   "source": [
    "# Check\n",
    "with open(OUTPUT_FILE, \"w\", encoding=\"utf-8\") as f:\n",
    "    json.dump(standalized_recipes, f, ensure_ascii=False, indent=4)"
   ]
  },
  {
   "cell_type": "markdown",
   "id": "669e8eae",
   "metadata": {},
   "source": [
    "# Same procedure for recipes vegetarian"
   ]
  },
  {
   "cell_type": "code",
   "execution_count": 21,
   "id": "57d40160",
   "metadata": {},
   "outputs": [],
   "source": [
    "RECIPES_FILE = DATA_DIR / \"recipes_vege.json\"\n",
    "OUTPUT_FILE = DATA_DIR / \"recipes_vege_with_ecv.json\""
   ]
  },
  {
   "cell_type": "code",
   "execution_count": 22,
   "id": "0ffdae9b",
   "metadata": {},
   "outputs": [
    {
     "data": {
      "text/plain": [
       "1755"
      ]
     },
     "execution_count": 22,
     "metadata": {},
     "output_type": "execute_result"
    }
   ],
   "source": [
    "with open(RECIPES_FILE, \"r\", encoding=\"utf-8\") as f:\n",
    "    recipes = json.load(f)\n",
    "\n",
    "len(recipes)"
   ]
  },
  {
   "cell_type": "code",
   "execution_count": 23,
   "id": "67c2798c",
   "metadata": {},
   "outputs": [
    {
     "name": "stdout",
     "output_type": "stream",
     "text": [
      "1147\n"
     ]
    }
   ],
   "source": [
    "filtered_recipes = filter_recipes_based_on_ecv(recipes, ecv_dict)\n",
    "print(len(filtered_recipes))"
   ]
  },
  {
   "cell_type": "code",
   "execution_count": 24,
   "id": "26f70cad",
   "metadata": {},
   "outputs": [
    {
     "name": "stdout",
     "output_type": "stream",
     "text": [
      "1021\n"
     ]
    }
   ],
   "source": [
    "filtered_recipes = filter_recipes(filtered_recipes, ecv_data, is_vege=True)\n",
    "print(len(filtered_recipes))"
   ]
  },
  {
   "cell_type": "code",
   "execution_count": 25,
   "id": "504a34e8",
   "metadata": {},
   "outputs": [],
   "source": [
    "# Check\n",
    "with open(OUTPUT_FILE, \"w\", encoding=\"utf-8\") as f:\n",
    "    json.dump(filtered_recipes, f, ensure_ascii=False, indent=4)"
   ]
  },
  {
   "cell_type": "code",
   "execution_count": 26,
   "id": "761b8a75",
   "metadata": {},
   "outputs": [
    {
     "data": {
      "text/plain": [
       "97"
      ]
     },
     "execution_count": 26,
     "metadata": {},
     "output_type": "execute_result"
    }
   ],
   "source": [
    "# Check unique ingredients in all recipes\n",
    "unique_ing = get_unique_ingredients(filtered_recipes)\n",
    "len(unique_ing)"
   ]
  },
  {
   "cell_type": "code",
   "execution_count": 27,
   "id": "8afac883",
   "metadata": {},
   "outputs": [
    {
     "data": {
      "text/plain": [
       "1021"
      ]
     },
     "execution_count": 27,
     "metadata": {},
     "output_type": "execute_result"
    }
   ],
   "source": [
    "filtered_recipes = normalize_ingredients(filtered_recipes)\n",
    "len(filtered_recipes)"
   ]
  },
  {
   "cell_type": "code",
   "execution_count": 28,
   "id": "cc409102",
   "metadata": {},
   "outputs": [],
   "source": [
    "# Check\n",
    "with open(OUTPUT_FILE, \"w\", encoding=\"utf-8\") as f:\n",
    "    json.dump(filtered_recipes, f, ensure_ascii=False, indent=4)"
   ]
  },
  {
   "cell_type": "code",
   "execution_count": 29,
   "id": "51ce8ebf",
   "metadata": {},
   "outputs": [
    {
     "data": {
      "text/plain": [
       "969"
      ]
     },
     "execution_count": 29,
     "metadata": {},
     "output_type": "execute_result"
    }
   ],
   "source": [
    "# filter non vege\n",
    "filtered_recipes = filter_recipes(filtered_recipes, ecv_data, is_vege=True)\n",
    "len(filtered_recipes)"
   ]
  },
  {
   "cell_type": "code",
   "execution_count": 30,
   "id": "281b9a3f",
   "metadata": {},
   "outputs": [],
   "source": [
    "# Check\n",
    "with open(OUTPUT_FILE, \"w\", encoding=\"utf-8\") as f:\n",
    "    json.dump(filtered_recipes, f, ensure_ascii=False, indent=4)"
   ]
  },
  {
   "cell_type": "code",
   "execution_count": 31,
   "id": "663bddd4",
   "metadata": {},
   "outputs": [],
   "source": [
    "# Check unique ingredients in all recipes\n",
    "unique_ing = get_unique_ingredients(filtered_recipes)"
   ]
  },
  {
   "cell_type": "code",
   "execution_count": 32,
   "id": "8c7f6821",
   "metadata": {},
   "outputs": [
    {
     "name": "stdout",
     "output_type": "stream",
     "text": [
      "Total unique ingredients: 55\n"
     ]
    }
   ],
   "source": [
    "spec_ing = extract_spec_ingredients(filtered_recipes)\n",
    "print(f\"Total unique ingredients: {len(spec_ing)}\")"
   ]
  },
  {
   "cell_type": "code",
   "execution_count": 33,
   "id": "4d05e53a",
   "metadata": {},
   "outputs": [],
   "source": [
    "spec_ing_weights_vege = {\n",
    "    \"tomates\": 100,                               # per tomato\n",
    "    \"courgettes\": 200,                             # per zucchini\n",
    "    \"poireau\": 150,                                # per leek\n",
    "    \"carottes\": 70,                                # per carrot\n",
    "    \"pommes de terre\": 150,                        # per potato\n",
    "    \"oeuf\": 60,                                    # per egg\n",
    "    \"carotte\": 70,                                 # per carrot\n",
    "    \"tomate\": 100,                                 # per tomato\n",
    "    \"courgette\": 200,                              # per zucchini\n",
    "    \"oeufs\": 60,                                   # per egg\n",
    "    \"bananes\": 120,                                # per banana\n",
    "    \"poireaux\": 150,                               # per leek\n",
    "    \"pomme de terre\": 150,                         # per potato\n",
    "    \"pâte à pizza\": 400,                           # per dough base\n",
    "    \"pommes\": 150,                                 # per apple\n",
    "    \"avocat\": 200,                                 # per avocado\n",
    "    \"tomates séchées à l'huile d'olive\": 10,       # per small portion\n",
    "    \"feuilles de riz\": 10,                         # per sheet\n",
    "    \"banane\": 120,                                 # per banana\n",
    "    \"jaunes d'oeuf\": 18,                           # per yolk\n",
    "    \"baguette\": 250,                               # per loaf\n",
    "    \"yaourt à la grecque\": 150,                    # per pot\n",
    "    \"sauce tomate\": 400,                            # per jar\n",
    "    \"jaune d'oeuf\": 18,                            # per yolk\n",
    "    \"tomates cerise\": 20,                           # per cherry\n",
    "    \"tomates séchées\": 10,                          # per small portion\n",
    "    \"yaourts natures\": 125,                         # per pot\n",
    "    \"blette\": 200,                                 # per bunch\n",
    "    \"peau de banane\": 50,                           # per banana\n",
    "    \"mangues\": 300,                                # per mango\n",
    "    \"pomme\": 150,                                  # per apple\n",
    "    \"yaourt bulgare\": 125,                          # per pot\n",
    "    \"galettes de riz\": 10,                          # per rice cake\n",
    "    \"blancs d'oeuf\": 30,                            # per egg white\n",
    "    \"avocats\": 200,                                # per avocado\n",
    "    \"yaourt nature\": 125,                            # per pot\n",
    "    \"double concentré de tomates\": 50,             # per tube\n",
    "    \"sirop d'érable\": 20,                           # per tablespoon\n",
    "    \"beurre tendre\": 10,                             # per pat\n",
    "    \"potiron\": 400,                                 # per small pumpkin portion\n",
    "    \"tofu\": 200,                                     # per block\n",
    "    \"mangue\": 300,                                  # per mango\n",
    "    \"beurre\": 10,                                   # per pat\n",
    "    \"carotte pourpre\": 70,                           # per carrot\n",
    "    \"vermicelles de riz\": 80,                        # per 100g dry\n",
    "    \"yaourt\": 125,                                   # per pot\n",
    "    \"blanc d'oeuf\": 30,                              # per egg white\n",
    "    \"yaourt brassé\": 125,                             # per pot\n",
    "    \"tomates pelées\": 400,                             # per can\n",
    "    \"blanc de poireau\": 50,                             # per section\n",
    "    \"laitue\": 200,                                     # per head\n",
    "    \"yaourts\": 125,                                     # per pot\n",
    "    \"petits beurre\": 10,                                # per cookie\n",
    "    \"yaourts brassés\": 125,                              # per pot\n",
    "    \"beurre allégé\": 10,                                 # per pat\n",
    "    \"beurre demi-sel\": 10,                               # per pat\n",
    "    \"purée de tomate\": 400                                # per can\n",
    "}\n"
   ]
  },
  {
   "cell_type": "code",
   "execution_count": 34,
   "id": "05e14702",
   "metadata": {},
   "outputs": [],
   "source": [
    "spec_ing = add_weights(spec_ing, spec_ing_weights_vege)"
   ]
  },
  {
   "cell_type": "code",
   "execution_count": 35,
   "id": "9cd57445",
   "metadata": {},
   "outputs": [
    {
     "data": {
      "text/plain": [
       "969"
      ]
     },
     "execution_count": 35,
     "metadata": {},
     "output_type": "execute_result"
    }
   ],
   "source": [
    "standalized_recipes = standardize_recipes(filtered_recipes, spec_ing)\n",
    "len(standalized_recipes)"
   ]
  },
  {
   "cell_type": "code",
   "execution_count": 36,
   "id": "b2eba9d2",
   "metadata": {},
   "outputs": [],
   "source": [
    "standalized_recipes = scale_ecv(standalized_recipes)"
   ]
  },
  {
   "cell_type": "code",
   "execution_count": 37,
   "id": "03723bc8",
   "metadata": {},
   "outputs": [],
   "source": [
    "# Check\n",
    "with open(OUTPUT_FILE, \"w\", encoding=\"utf-8\") as f:\n",
    "    json.dump(standalized_recipes, f, ensure_ascii=False, indent=4)"
   ]
  }
 ],
 "metadata": {
  "kernelspec": {
   "display_name": "venv",
   "language": "python",
   "name": "python3"
  },
  "language_info": {
   "codemirror_mode": {
    "name": "ipython",
    "version": 3
   },
   "file_extension": ".py",
   "mimetype": "text/x-python",
   "name": "python",
   "nbconvert_exporter": "python",
   "pygments_lexer": "ipython3",
   "version": "3.13.4"
  }
 },
 "nbformat": 4,
 "nbformat_minor": 5
}
