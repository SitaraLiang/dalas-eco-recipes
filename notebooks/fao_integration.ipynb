{
 "cells": [
  {
   "cell_type": "markdown",
   "id": "27010102",
   "metadata": {},
   "source": [
    "# Integrate FAO with recipes non vege"
   ]
  },
  {
   "cell_type": "code",
   "execution_count": 1,
   "id": "e15e64e5",
   "metadata": {},
   "outputs": [],
   "source": [
    "import pandas as pd\n",
    "import requests\n",
    "from pathlib import Path\n",
    "import json\n",
    "from pathlib import Path\n",
    "import sys\n",
    "import spacy\n",
    "\n",
    "project_root = Path.cwd().parent\n",
    "sys.path.append(str(project_root))\n",
    "\n",
    "from src.utils import *"
   ]
  },
  {
   "cell_type": "code",
   "execution_count": 2,
   "id": "6d5f196b",
   "metadata": {},
   "outputs": [],
   "source": [
    "DATA_DIR = Path(project_root / \"data\")\n",
    "RECIPES_FILE = DATA_DIR / \"recipes_non_vege_with_ecv.json\"\n",
    "FAO_FILE = DATA_DIR / \"fao_clean.json\"\n",
    "OUTPUT_FILE = DATA_DIR / \"recipes_non_vege_clean.json\""
   ]
  },
  {
   "cell_type": "code",
   "execution_count": 3,
   "id": "b2603a30",
   "metadata": {},
   "outputs": [
    {
     "data": {
      "text/plain": [
       "1097"
      ]
     },
     "execution_count": 3,
     "metadata": {},
     "output_type": "execute_result"
    }
   ],
   "source": [
    "with open(RECIPES_FILE, \"r\", encoding=\"utf-8\") as f:\n",
    "    recipes = json.load(f)\n",
    "\n",
    "len(recipes)"
   ]
  },
  {
   "cell_type": "code",
   "execution_count": 4,
   "id": "b361360b",
   "metadata": {},
   "outputs": [
    {
     "data": {
      "text/plain": [
       "152"
      ]
     },
     "execution_count": 4,
     "metadata": {},
     "output_type": "execute_result"
    }
   ],
   "source": [
    "unique_ing = get_unique_ingredients(recipes)\n",
    "\n",
    "len(unique_ing)"
   ]
  },
  {
   "cell_type": "code",
   "execution_count": 5,
   "id": "deae152f",
   "metadata": {},
   "outputs": [],
   "source": [
    "ingredient_groups = {\n",
    "    \"poulet\": [\"poulet\", \"aile de poulet\", \"cuisse de poulet\", \"blanc de poulet\", \"pilons de poulet\", \"filet de poulet\", \"escalope de poulet\"],\n",
    "    \"canard\": [\"canard\", \"magret de canard\", \"aiguillette de canard\", \"confit de canard\", \"foie gras de canard\"],\n",
    "    \"veau\": [\"veau\", \"escalope de veau\", \"foie de veau\", \"rôti de veau\", \"ris de veau\", \"langue de veau\"],\n",
    "    \"porc\": [\"porc\", \"cote de porc\", \"rôti de porc\", \"travers de porc\", \"e chine de porc\", \"jambon\"],\n",
    "    \"boeuf\": [\"boeuf\", \"haché de boeuf\", \"cote de boeuf\", \"rôti de boeuf\", \"jarret de boeuf\"],\n",
    "    \"tomate\": [\"tomate\", \"coulis de tomate\", \"purée de tomate\", \"pulpe de tomate\", \"concentré de tomate\", \"sauce tomate\"],\n",
    "    \"yaourt\": [\"yaourt\", \"yaourts\", \"yaourt nature\", \"yaourt à la grecque\", \"yaourts brassés\"],\n",
    "    \"oignon\": [\"oignon\", \"oignons nouveaux\", \"oignon nouveau\"],\n",
    "    \"oeuf\": [\"oeuf\", \"oeufs\", \"blancs d'oeuf\", \"jaunes d'oeuf\"],\n",
    "    \"carotte\": [\"carotte\", \"carottes\"],\n",
    "    \"poireau\": [\"poireau\", \"poireaux\", \"poireal\"],\n",
    "    \"courgette\": [\"courgette\", \"courgettes\"],\n",
    "    \"pomme de terre\": [\"pomme de terre\", \"pommes de terre\"],\n",
    "    \"riz\": [\"riz\", \"riz basmati\", \"riz thaï\", \"riz rond\"],\n",
    "    \"saumon\": [\"saumon\", \"saumon frais\", \"saumon fumé\"],\n",
    "    \"thon\": [\"thon\", \"thon rouge\"],\n",
    "    \"lapin\": [\"lapin entier\", \"rable de lapin\", \"cuisse de lapin\"],\n",
    "    \"beurre\": [\"beurre sale\", \"beurre tendre\", \"petit beurre\", \"beurre de cacahuete\", \"beurre doux\", \"beurre demi-sel\", \"beurre de amande\", \"beurre allege\", \"beurre special cuisson lui et vir\"],\n",
    "    \"lentille\": [\"lentille verte\", \"lentille corail\"],\n",
    "    \"tofu\": [\"tofu soyeux\"],\n",
    "    \"pomme\": [\"pommeau\"],\n",
    "    \"banane\": [\"peau de banane\", \"jus de banane\"],\n",
    "    \"sirop d'érable\": [\"sirop de erabl\"]\n",
    "}\n"
   ]
  },
  {
   "cell_type": "code",
   "execution_count": 6,
   "id": "caa06ae0",
   "metadata": {},
   "outputs": [],
   "source": [
    "nlp = spacy.load(\"fr_core_news_sm\")\n",
    "reverse_map = {v: k for k, vals in ingredient_groups.items() for v in vals}"
   ]
  },
  {
   "cell_type": "code",
   "execution_count": 7,
   "id": "4e3e7a83",
   "metadata": {},
   "outputs": [
    {
     "name": "stdout",
     "output_type": "stream",
     "text": [
      "{'lentille', 'saumon', 'boeuf', 'yaourt', 'beurre', 'crevette', 'carotte', 'lapin', 'porc', 'lieu noir', 'potiron', 'thon', 'poulet', 'veau', 'riz', 'mangue', 'oeuf', 'pomme', 'canard', 'courgette', 'poireau', 'banane', 'pomme de terre', 'moule', 'tomate', 'avocat', 'pate avoir pizza', 'bleu de auvergne', 'boulgour', 'crevette rose'}\n"
     ]
    }
   ],
   "source": [
    "normalized_ing = {normalize_ingredient(i, nlp, reverse_map) for i in unique_ing}\n",
    "print(normalized_ing)"
   ]
  },
  {
   "cell_type": "code",
   "execution_count": 8,
   "id": "77bfc84b",
   "metadata": {},
   "outputs": [
    {
     "data": {
      "text/plain": [
       "30"
      ]
     },
     "execution_count": 8,
     "metadata": {},
     "output_type": "execute_result"
    }
   ],
   "source": [
    "len(normalized_ing)"
   ]
  },
  {
   "cell_type": "code",
   "execution_count": 9,
   "id": "b00eada2",
   "metadata": {},
   "outputs": [],
   "source": [
    "with open(FAO_FILE, \"r\", encoding=\"utf-8\") as f:\n",
    "    fao_table = json.load(f)"
   ]
  },
  {
   "cell_type": "code",
   "execution_count": 10,
   "id": "4e6e6125",
   "metadata": {},
   "outputs": [],
   "source": [
    "ing_to_fao = ing_to_fao_match(fao_table, normalized_ing)"
   ]
  },
  {
   "cell_type": "code",
   "execution_count": 11,
   "id": "95b62baa",
   "metadata": {},
   "outputs": [],
   "source": [
    "ing_with_empty_fao = get_empty_fao(ing_to_fao)\n"
   ]
  },
  {
   "cell_type": "code",
   "execution_count": 12,
   "id": "be8a2961",
   "metadata": {},
   "outputs": [],
   "source": [
    "ing_nutrition = {\n",
    "    \"lapin\": {\"kcal_per_g\": 1.75, \"protein_per_g\": 0.314, \"fat_per_g\": 0.071},\n",
    "    \"crevette rose\": {\"kcal_per_g\": 0.88, \"protein_per_g\": 0.18, \"fat_per_g\": 0.01},\n",
    "    \"pomme de terre\": {\"kcal_per_g\": 1.68, \"protein_per_g\": 0.03, \"fat_per_g\": 0.002},\n",
    "    \"crevette\": {\"kcal_per_g\": 0.88, \"protein_per_g\": 0.18, \"fat_per_g\": 0.01},\n",
    "    \"veau\": {\"kcal_per_g\": 1.17, \"protein_per_g\": 0.2098, \"fat_per_g\": 0.0308},\n",
    "    \"saumon\": {\"kcal_per_g\": 2.06, \"protein_per_g\": 0.22, \"fat_per_g\": 0.13},\n",
    "    \"pate avoir pizza\": {\"kcal_per_g\": 2.91, \"protein_per_g\": 0.07, \"fat_per_g\": 0.07},\n",
    "    \"thon\": {\"kcal_per_g\": 2.20, \"protein_per_g\": 0.33, \"fat_per_g\": 0.044},\n",
    "    \"courgette\": {\"kcal_per_g\": 0.17, \"protein_per_g\": 0.012, \"fat_per_g\": 0.003},\n",
    "    \"bleu de auvergne\": {\"kcal_per_g\": 3.53, \"protein_per_g\": 0.21, \"fat_per_g\": 0.28},\n",
    "    \"lieu noir\": {\"kcal_per_g\": 1.05, \"protein_per_g\": 0.23, \"fat_per_g\": 0.01},\n",
    "    \"sirop d'érable\": {\"kcal_per_g\": 3.67, \"protein_per_g\": 0, \"fat_per_g\": 0},\n",
    "    \"pâte à pizza\": {\"kcal_per_g\": 2.57, \"protein_per_g\": 0.23, \"fat_per_g\": 0.46},\n",
    "    \"feta\": {\"kcal_per_g\": 2.64, \"protein_per_g\": 0.21, \"fat_per_g\": 0.21},\n",
    "    \"blette\": {\"kcal_per_g\": 0.30, \"protein_per_g\": 0.02, \"fat_per_g\": 0.002},\n",
    "    \"courgette\": {\"kcal_per_g\": 0.18, \"protein_per_g\": 0.02, \"fat_per_g\": 0.004},\n",
    "    \"bleu\": {\"kcal_per_g\": 3.53, \"protein_per_g\": 0.75, \"fat_per_g\": 1.04},\n",
    "    \"pomme de terre\": {\"kcal_per_g\": 0.90, \"protein_per_g\": 0.02, \"fat_per_g\": 0},\n",
    "    \"tofu\": {\"kcal_per_g\": 0.83, \"protein_per_g\": 0.08, \"fat_per_g\": 0.053},\n",
    "    \"liqueur de pomme\": {\"kcal_per_g\": 3.67, \"protein_per_g\": 0, \"fat_per_g\": 0},\n",
    "    \"farine de lentille\": {\"kcal_per_g\": 3.46, \"protein_per_g\": 0.25, \"fat_per_g\": 0.02},\n",
    "    \"toblerone\": {\"kcal_per_g\": 5.56, \"protein_per_g\": 0.06, \"fat_per_g\": 0.31},\n",
    "    \"baguette\": {\"kcal_per_g\": 2.80, \"protein_per_g\": 0.09, \"fat_per_g\": 0.03}\n",
    "}\n"
   ]
  },
  {
   "cell_type": "code",
   "execution_count": 13,
   "id": "b2a55cbb",
   "metadata": {},
   "outputs": [],
   "source": [
    "ing_to_fao = get_fao_info(ing_to_fao, ing_nutrition)"
   ]
  },
  {
   "cell_type": "code",
   "execution_count": 14,
   "id": "e73ed5c0",
   "metadata": {},
   "outputs": [],
   "source": [
    "ing_to_fao = normalize_fao_info(ing_to_fao)"
   ]
  },
  {
   "cell_type": "code",
   "execution_count": 15,
   "id": "c627e6fc",
   "metadata": {},
   "outputs": [],
   "source": [
    "recipes = calculate_recipe_nutrients(recipes, ing_to_fao)"
   ]
  },
  {
   "cell_type": "code",
   "execution_count": 16,
   "id": "021af295",
   "metadata": {},
   "outputs": [],
   "source": [
    "# Check\n",
    "with open(OUTPUT_FILE, \"w\", encoding=\"utf-8\") as f:\n",
    "    json.dump(recipes, f, ensure_ascii=False, indent=4)"
   ]
  },
  {
   "cell_type": "markdown",
   "id": "e1c4523b",
   "metadata": {},
   "source": [
    "# Same procedure for recipe vege"
   ]
  },
  {
   "cell_type": "code",
   "execution_count": 17,
   "id": "ecd1d526",
   "metadata": {},
   "outputs": [],
   "source": [
    "RECIPES_FILE = DATA_DIR / \"recipes_vege_with_ecv.json\"\n",
    "OUTPUT_FILE = DATA_DIR / \"recipes_vege_clean.json\""
   ]
  },
  {
   "cell_type": "code",
   "execution_count": 18,
   "id": "61116562",
   "metadata": {},
   "outputs": [
    {
     "data": {
      "text/plain": [
       "990"
      ]
     },
     "execution_count": 18,
     "metadata": {},
     "output_type": "execute_result"
    }
   ],
   "source": [
    "with open(RECIPES_FILE, \"r\", encoding=\"utf-8\") as f:\n",
    "    recipes = json.load(f)\n",
    "\n",
    "len(recipes)"
   ]
  },
  {
   "cell_type": "code",
   "execution_count": 19,
   "id": "2ed5f076",
   "metadata": {},
   "outputs": [
    {
     "data": {
      "text/plain": [
       "94"
      ]
     },
     "execution_count": 19,
     "metadata": {},
     "output_type": "execute_result"
    }
   ],
   "source": [
    "unique_ing = get_unique_ingredients(recipes)\n",
    "len(unique_ing)"
   ]
  },
  {
   "cell_type": "code",
   "execution_count": 20,
   "id": "0ab9bf76",
   "metadata": {},
   "outputs": [
    {
     "name": "stdout",
     "output_type": "stream",
     "text": [
      "{'lentille', 'yaourt', 'beurre', 'carotte', \"sirop d'érable\", 'farine de lentille', 'feta', 'potiron', 'blette', 'riz', 'mangue', 'liqueur de pomme', 'oeuf', 'toblerone', 'pomme', 'courgette', 'poireau', 'banane', 'tofu', 'bleu', 'pomme de terre', 'laitue', 'tomate', 'avocat', 'pate avoir pizza', 'boulgour', 'baguette'}\n"
     ]
    }
   ],
   "source": [
    "normalized_ing = {normalize_ingredient(i, nlp, reverse_map) for i in unique_ing}\n",
    "print(normalized_ing)"
   ]
  },
  {
   "cell_type": "code",
   "execution_count": 21,
   "id": "c77d8963",
   "metadata": {},
   "outputs": [],
   "source": [
    "ing_to_fao = ing_to_fao_match(fao_table, normalized_ing)"
   ]
  },
  {
   "cell_type": "code",
   "execution_count": 22,
   "id": "e65a6cab",
   "metadata": {},
   "outputs": [],
   "source": [
    "ing_with_empty_fao = get_empty_fao(ing_to_fao)"
   ]
  },
  {
   "cell_type": "code",
   "execution_count": 23,
   "id": "169f766a",
   "metadata": {},
   "outputs": [],
   "source": [
    "ing_to_fao = get_fao_info(ing_to_fao, ing_nutrition)"
   ]
  },
  {
   "cell_type": "code",
   "execution_count": 24,
   "id": "69eb68c1",
   "metadata": {},
   "outputs": [],
   "source": [
    "ing_to_fao = normalize_fao_info(ing_to_fao)"
   ]
  },
  {
   "cell_type": "code",
   "execution_count": 25,
   "id": "033808d2",
   "metadata": {},
   "outputs": [],
   "source": [
    "recipes = calculate_recipe_nutrients(recipes, ing_to_fao)"
   ]
  },
  {
   "cell_type": "code",
   "execution_count": 26,
   "id": "31c50c1d",
   "metadata": {},
   "outputs": [],
   "source": [
    "# Check\n",
    "with open(OUTPUT_FILE, \"w\", encoding=\"utf-8\") as f:\n",
    "    json.dump(recipes, f, ensure_ascii=False, indent=4)"
   ]
  },
  {
   "cell_type": "markdown",
   "id": "94d76d60",
   "metadata": {},
   "source": [
    "# Combine the dataset"
   ]
  },
  {
   "cell_type": "code",
   "execution_count": 27,
   "id": "af949012",
   "metadata": {},
   "outputs": [],
   "source": [
    "RECIPES_VEGE = DATA_DIR / \"recipes_vege_clean.json\"\n",
    "RECIPES_NON_VEGE = DATA_DIR / \"recipes_non_vege_clean.json\"\n",
    "OUTPUT_FILE = DATA_DIR / \"all_recipes_clean.json\""
   ]
  },
  {
   "cell_type": "code",
   "execution_count": 28,
   "id": "2ed38bde",
   "metadata": {},
   "outputs": [],
   "source": [
    "with open(RECIPES_VEGE, \"r\", encoding=\"utf-8\") as f:\n",
    "    recipes_vege = json.load(f)\n",
    "\n",
    "with open(RECIPES_NON_VEGE, \"r\", encoding=\"utf-8\") as f:\n",
    "    recipes_non_vege = json.load(f)\n"
   ]
  },
  {
   "cell_type": "code",
   "execution_count": 29,
   "id": "2ed06766",
   "metadata": {},
   "outputs": [],
   "source": [
    "for recipe in recipes_vege:\n",
    "    recipe[\"is_vege\"] = 1\n",
    "\n",
    "for recipe in recipes_non_vege:\n",
    "    recipe[\"is_vege\"] = 0\n",
    "\n",
    "all_recipes = recipes_vege + recipes_non_vege"
   ]
  },
  {
   "cell_type": "code",
   "execution_count": 30,
   "id": "ff1f94a6",
   "metadata": {},
   "outputs": [
    {
     "data": {
      "text/plain": [
       "2087"
      ]
     },
     "execution_count": 30,
     "metadata": {},
     "output_type": "execute_result"
    }
   ],
   "source": [
    "len(all_recipes)"
   ]
  },
  {
   "cell_type": "code",
   "execution_count": 31,
   "id": "13204bd2",
   "metadata": {},
   "outputs": [],
   "source": [
    "with open(OUTPUT_FILE, \"w\", encoding=\"utf-8\") as f:\n",
    "    json.dump(all_recipes, f, ensure_ascii=False, indent=2)"
   ]
  }
 ],
 "metadata": {
  "kernelspec": {
   "display_name": "venv",
   "language": "python",
   "name": "python3"
  },
  "language_info": {
   "codemirror_mode": {
    "name": "ipython",
    "version": 3
   },
   "file_extension": ".py",
   "mimetype": "text/x-python",
   "name": "python",
   "nbconvert_exporter": "python",
   "pygments_lexer": "ipython3",
   "version": "3.13.4"
  }
 },
 "nbformat": 4,
 "nbformat_minor": 5
}
