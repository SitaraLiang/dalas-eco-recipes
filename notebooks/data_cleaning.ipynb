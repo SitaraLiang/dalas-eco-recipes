{
 "cells": [
  {
   "cell_type": "markdown",
   "id": "cef53c23",
   "metadata": {},
   "source": [
    "# Data cleaning for non vege recipes"
   ]
  },
  {
   "cell_type": "code",
   "execution_count": 1,
   "id": "55b41670",
   "metadata": {},
   "outputs": [],
   "source": [
    "import pandas as pd\n",
    "import requests\n",
    "from pathlib import Path\n",
    "import json\n",
    "from pathlib import Path\n",
    "import sys\n",
    "\n",
    "project_root = Path.cwd().parent\n",
    "sys.path.append(str(project_root))\n",
    "\n",
    "from src.utils import *"
   ]
  },
  {
   "cell_type": "code",
   "execution_count": 2,
   "id": "a1ff82b8",
   "metadata": {},
   "outputs": [],
   "source": [
    "DATA_DIR = Path(project_root / \"data\")\n",
    "RECIPES_FILE = DATA_DIR / \"recipes_non_vege.json\"\n",
    "ECV_FILE = DATA_DIR / \"impact_co2.json\"\n",
    "OUTPUT_FILE = DATA_DIR / \"recipes_non_vege_with_ecv.json\"\n",
    "\n",
    "AGRIBALYSE_API_URL = \"https://impactco2.fr/api/v1/alimentation?category=group&language=fr\""
   ]
  },
  {
   "cell_type": "markdown",
   "id": "2b420ed5",
   "metadata": {},
   "source": [
    "#### Get the raw recipes dataset"
   ]
  },
  {
   "cell_type": "code",
   "execution_count": 3,
   "id": "267cdb98",
   "metadata": {},
   "outputs": [
    {
     "data": {
      "text/plain": [
       "2037"
      ]
     },
     "execution_count": 3,
     "metadata": {},
     "output_type": "execute_result"
    }
   ],
   "source": [
    "with open(RECIPES_FILE, \"r\", encoding=\"utf-8\") as f:\n",
    "    recipes = json.load(f)\n",
    "\n",
    "len(recipes)"
   ]
  },
  {
   "cell_type": "code",
   "execution_count": 4,
   "id": "73658fcc",
   "metadata": {},
   "outputs": [],
   "source": [
    "recipes = convert_recipe_numbers(recipes)"
   ]
  },
  {
   "cell_type": "code",
   "execution_count": 5,
   "id": "826a704e",
   "metadata": {},
   "outputs": [],
   "source": [
    "# Check\n",
    "with open(OUTPUT_FILE, \"w\", encoding=\"utf-8\") as f:\n",
    "    json.dump(recipes, f, ensure_ascii=False, indent=4)"
   ]
  },
  {
   "cell_type": "markdown",
   "id": "6185e693",
   "metadata": {},
   "source": [
    "#### Get the Agribalyse API"
   ]
  },
  {
   "cell_type": "code",
   "execution_count": 6,
   "id": "14917f3b",
   "metadata": {},
   "outputs": [],
   "source": [
    "if not (ECV_FILE).exists():\n",
    "    response = requests.get(AGRIBALYSE_API_URL)\n",
    "    if response.status_code == 200:\n",
    "        ecv_data = response.json()  # converts the response to a Python dictionary\n",
    "        with open(DATA_DIR / \"impact_co2.json\", \"w\", encoding=\"utf-8\") as f:\n",
    "            json.dump(ecv_data, f, ensure_ascii=False, indent=4)\n",
    "else:\n",
    "    with open(ECV_FILE, \"r\", encoding=\"utf-8\") as f:\n",
    "        ecv_data = json.load(f)"
   ]
  },
  {
   "cell_type": "code",
   "execution_count": 7,
   "id": "2fd8d67c",
   "metadata": {},
   "outputs": [],
   "source": [
    "# Flatten CO2 reference to a dict: slug -> ecv\n",
    "ecv_dict = {}\n",
    "for category in ecv_data[\"data\"]:\n",
    "    for item in category[\"items\"]:\n",
    "        ecv_dict[item[\"slug\"].lower()] = item[\"ecv\"]\n"
   ]
  },
  {
   "cell_type": "markdown",
   "id": "030c53e2",
   "metadata": {},
   "source": [
    "## 1. Filter all ingredients which doesn't exist in Agribalyse database"
   ]
  },
  {
   "cell_type": "code",
   "execution_count": 8,
   "id": "8c7e5894",
   "metadata": {},
   "outputs": [
    {
     "name": "stdout",
     "output_type": "stream",
     "text": [
      "1782\n"
     ]
    }
   ],
   "source": [
    "filtered_recipes = filter_recipes_based_on_ecv(recipes, ecv_dict)\n",
    "print(len(filtered_recipes))"
   ]
  },
  {
   "cell_type": "code",
   "execution_count": 9,
   "id": "f43bef25",
   "metadata": {},
   "outputs": [],
   "source": [
    "# Check\n",
    "with open(OUTPUT_FILE, \"w\", encoding=\"utf-8\") as f:\n",
    "    json.dump(filtered_recipes, f, ensure_ascii=False, indent=4)"
   ]
  },
  {
   "cell_type": "markdown",
   "id": "33607903",
   "metadata": {},
   "source": [
    "## 2.Filter all vegetarian recipes"
   ]
  },
  {
   "cell_type": "code",
   "execution_count": 10,
   "id": "bf221fca",
   "metadata": {},
   "outputs": [
    {
     "name": "stdout",
     "output_type": "stream",
     "text": [
      "1185\n"
     ]
    }
   ],
   "source": [
    "filtered_recipes = filter_recipes(filtered_recipes, ecv_data, is_vege=False)\n",
    "print(len(filtered_recipes))"
   ]
  },
  {
   "cell_type": "code",
   "execution_count": 11,
   "id": "3836e24b",
   "metadata": {},
   "outputs": [],
   "source": [
    "# Check\n",
    "with open(OUTPUT_FILE, \"w\", encoding=\"utf-8\") as f:\n",
    "    json.dump(filtered_recipes, f, ensure_ascii=False, indent=4)"
   ]
  },
  {
   "cell_type": "code",
   "execution_count": 12,
   "id": "45622efc",
   "metadata": {},
   "outputs": [
    {
     "data": {
      "text/plain": [
       "168"
      ]
     },
     "execution_count": 12,
     "metadata": {},
     "output_type": "execute_result"
    }
   ],
   "source": [
    "# Check unique ingredients in all recipes\n",
    "unique_ing = get_unique_ingredients(filtered_recipes)\n",
    "len(unique_ing)"
   ]
  },
  {
   "cell_type": "code",
   "execution_count": 13,
   "id": "27b54a53",
   "metadata": {},
   "outputs": [
    {
     "data": {
      "text/plain": [
       "{'riz thaï': (800.0, 'g'),\n",
       " 'pulpe de tomate': (291.6666666666667, 'g'),\n",
       " 'fond de veau': (3.0, 'l'),\n",
       " 'courgette': (1.0, 'kg'),\n",
       " 'coulis de tomate': (250.0, 'g'),\n",
       " 'aile de poulet': (500.0, 'g'),\n",
       " 'poulet': (458.92857142857144, 'g'),\n",
       " 'carotte': (372.11538461538464, 'g'),\n",
       " 'riz blanc': (173.33333333333334, 'g'),\n",
       " 'tomates concassées': (297.14285714285717, 'g'),\n",
       " 'tomate': (497.6470588235294, 'g'),\n",
       " 'lapin': (600.0, 'g'),\n",
       " 'rôti de porc': (633.3333333333334, 'g'),\n",
       " 'blanc de poulet': (498.14814814814815, 'g'),\n",
       " 'bouillon de boeuf': (2.0, '60'),\n",
       " 'oignon nouveau': (300.0, 'g'),\n",
       " 'beurre': (47.80769230769231, 'g'),\n",
       " 'crevettes': (340.0, 'g'),\n",
       " 'boeuf': (617.3076923076923, 'g'),\n",
       " 'beurre demi-sel': (65.0, 'g'),\n",
       " 'canard': (200.0, 'g'),\n",
       " 'riz': (246.66666666666666, 'g'),\n",
       " 'porc': (372.72727272727275, 'g'),\n",
       " 'rôti de veau': (1.2333333333333334, 'kg'),\n",
       " 'saumon': (675.0, 'g'),\n",
       " 'moules': (150.0, 'g'),\n",
       " 'veau': (600.0, 'g'),\n",
       " 'sauté de porc': (575.0, 'g'),\n",
       " 'riz basmati': (350.0, 'g'),\n",
       " 'pomme de terre': (528.9473684210526, 'g')}"
      ]
     },
     "execution_count": 13,
     "metadata": {},
     "output_type": "execute_result"
    }
   ],
   "source": [
    "ing_empty_quantity = get_empty_quantity(filtered_recipes)\n",
    "ing_with_quantity = handle_empty_quantity(filtered_recipes, ing_empty_quantity)\n",
    "filtered_recipes = update_recipes_with_quantities(filtered_recipes, ing_with_quantity)\n",
    "ing_with_quantity"
   ]
  },
  {
   "cell_type": "code",
   "execution_count": 14,
   "id": "831cb7f4",
   "metadata": {},
   "outputs": [
    {
     "data": {
      "text/plain": [
       "['Beurre spécial cuisson Elle & Vire',\n",
       " 'Echine de porc 750 g U',\n",
       " 'graisse de canard',\n",
       " 'coeur de canard']"
      ]
     },
     "execution_count": 14,
     "metadata": {},
     "output_type": "execute_result"
    }
   ],
   "source": [
    "ing_empty_quantity = get_empty_quantity(filtered_recipes)\n",
    "ing_empty_quantity"
   ]
  },
  {
   "cell_type": "code",
   "execution_count": 15,
   "id": "e4b06d7f",
   "metadata": {},
   "outputs": [],
   "source": [
    "spec_ing_with_quantity = {\n",
    "    'Beurre spécial cuisson Elle & Vire': (200.0, 'g'),   # typical cooking butter block\n",
    "    'graisse de canard': (250.0, 'g'),                    # a common jar or tub amount\n",
    "    'coeur de canard': (400.0, 'g'),                      # average weight of several duck hearts\n",
    "    'Echine de porc 750 g U': (750.0, 'g')                # already specified\n",
    "}"
   ]
  },
  {
   "cell_type": "code",
   "execution_count": 16,
   "id": "36565ef5",
   "metadata": {},
   "outputs": [],
   "source": [
    "filtered_recipes = update_recipes_with_quantities(filtered_recipes, spec_ing_with_quantity)"
   ]
  },
  {
   "cell_type": "code",
   "execution_count": 17,
   "id": "a20f9872",
   "metadata": {},
   "outputs": [],
   "source": [
    "# Check\n",
    "with open(OUTPUT_FILE, \"w\", encoding=\"utf-8\") as f:\n",
    "    json.dump(filtered_recipes, f, ensure_ascii=False, indent=4)"
   ]
  },
  {
   "cell_type": "markdown",
   "id": "dc21b409",
   "metadata": {},
   "source": [
    "## 3.Standalize the Unity et Quantity"
   ]
  },
  {
   "cell_type": "code",
   "execution_count": 18,
   "id": "0ccecccc",
   "metadata": {},
   "outputs": [
    {
     "data": {
      "text/plain": [
       "1185"
      ]
     },
     "execution_count": 18,
     "metadata": {},
     "output_type": "execute_result"
    }
   ],
   "source": [
    "filtered_recipes = normalize_ingredients(filtered_recipes)\n",
    "len(filtered_recipes)"
   ]
  },
  {
   "cell_type": "code",
   "execution_count": 19,
   "id": "5e1978d8",
   "metadata": {},
   "outputs": [
    {
     "data": {
      "text/plain": [
       "1099"
      ]
     },
     "execution_count": 19,
     "metadata": {},
     "output_type": "execute_result"
    }
   ],
   "source": [
    "# filter vege\n",
    "filtered_recipes = filter_recipes(filtered_recipes, ecv_data, is_vege=False)\n",
    "len(filtered_recipes)"
   ]
  },
  {
   "cell_type": "code",
   "execution_count": 20,
   "id": "0e374521",
   "metadata": {},
   "outputs": [],
   "source": [
    "# Check\n",
    "with open(OUTPUT_FILE, \"w\", encoding=\"utf-8\") as f:\n",
    "    json.dump(filtered_recipes, f, ensure_ascii=False, indent=4)"
   ]
  },
  {
   "cell_type": "code",
   "execution_count": 21,
   "id": "3fe8d6e8",
   "metadata": {},
   "outputs": [
    {
     "data": {
      "text/plain": [
       "152"
      ]
     },
     "execution_count": 21,
     "metadata": {},
     "output_type": "execute_result"
    }
   ],
   "source": [
    "# Check unique ingredients in all recipes\n",
    "unique_ing = get_unique_ingredients(filtered_recipes)\n",
    "len(unique_ing)"
   ]
  },
  {
   "cell_type": "code",
   "execution_count": 22,
   "id": "24082a6e",
   "metadata": {},
   "outputs": [
    {
     "name": "stdout",
     "output_type": "stream",
     "text": [
      "Total spec ingredients: 101\n"
     ]
    }
   ],
   "source": [
    "spec_ing = extract_spec_ingredients(filtered_recipes)\n",
    "print(f\"Total spec ingredients: {len(spec_ing)}\")"
   ]
  },
  {
   "cell_type": "code",
   "execution_count": 23,
   "id": "d149c0b3",
   "metadata": {},
   "outputs": [],
   "source": [
    "spec_ing_weights_non_vege = {\n",
    "    \"poulet\": 150,                                 # generic portion\n",
    "    \"tomates pelées\": 400,                          # per can\n",
    "    \"moules\": 20,                                  # per mussel\n",
    "    \"crevettes roses\": 20,                          # per shrimp\n",
    "    \"avocat\": 200,                                 # per avocado\n",
    "    \"travers de porc\": 200,                          # per rack\n",
    "    \"oignons nouveaux\": 30,                         # per onion\n",
    "    \"escalopes de porc\": 150,                        # per escalope\n",
    "    \"galettes de riz\": 10,                           # per rice cake\n",
    "    \"rôti de porc\": 1800,                            # per roast\n",
    "    \"cuisses de lapin\": 250,                          # per leg\n",
    "    \"boeuf haché\": 200,                               # per portion\n",
    "    \"magrets de canard\": 350,                         # per breast\n",
    "    \"saumon\": 200,                                   # per fillet\n",
    "    \"crevettes\": 20,                                 # per shrimp\n",
    "    \"saumon fumé\": 50,                               # per slice\n",
    "    \"yaourt nature\": 125,                             # per pot\n",
    "    \"mangues\": 300,                                  # per mango\n",
    "    \"carottes\": 70,                                  # per carrot\n",
    "    \"beurre doux\": 10,                                # per pat\n",
    "    \"jaunes d'oeuf\": 18,                              # per yolk\n",
    "    \"blancs de poulet\": 150,                           # per piece\n",
    "    \"oeuf\": 60,                                      # per egg\n",
    "    \"jaune d'oeuf\": 18,                               # per yolk\n",
    "    \"cuisses de poulet\": 250,                          # per leg\n",
    "    \"rôti de veau\": 1800,                              # per roast\n",
    "    \"paupiettes de veau\": 200,                         # per piece\n",
    "    \"côte de boeuf\": 300,                              # per steak\n",
    "    \"escalopes de poulet\": 150,                         # per escalope\n",
    "    \"filets de poulet\": 150,                            # per fillet\n",
    "    \"porc\": 150,                                       # generic portion\n",
    "    \"pommes de terre\": 150,                             # per potato\n",
    "    \"courgette\": 200,                                   # per zucchini\n",
    "    \"carotte\": 70,                                      # per carrot\n",
    "    \"lapin\": 200,                                       # per piece\n",
    "    \"côte de porc\": 200,                                # per chop\n",
    "    \"tête de veau\": 1200,                               # whole head\n",
    "    \"tomates\": 100,                                     # per tomato\n",
    "    \"escalopes de veau\": 150,                             # per escalope\n",
    "    \"chorizo\": 50,                                      # per link slice\n",
    "    \"blancs d'oeuf\": 30,                                # per egg white\n",
    "    \"cuisses de canard\": 300,                            # per leg\n",
    "    \"yaourt\": 125,                                      # per pot\n",
    "    \"beurre\": 30,                                       # per pat\n",
    "    \"échine de porc\": 200,                               # per portion\n",
    "    \"côtes de porc\": 200,                                # per chop\n",
    "    \"joue de porc\": 80,                                  # per cheek\n",
    "    \"pieds de veau\": 300,                                # per foot\n",
    "    \"poireau\": 150,                                     # per leek\n",
    "    \"magret de canard\": 350,                             # per breast\n",
    "    \"oeufs\": 60,                                         # per egg\n",
    "    \"tomate\": 100,                                       # per tomato\n",
    "    \"poulet de 1,3 à 1,4 kg u\": 1350,                   # whole chicken in range\n",
    "    \"canard\": 1200,                                      # per whole duck\n",
    "    \"fond de veau\": 250,                                 # per package\n",
    "    \"jarrets de porc\": 400,                               # per shank\n",
    "    \"rôti de boeuf\": 1800,                                # per roast\n",
    "    \"pomme\": 150,                                         # per apple\n",
    "    \"ailes de poulet\": 50,                                 # per wing\n",
    "    \"courgettes\": 200,                                     # per zucchini\n",
    "    \"pied de veau\": 300,                                   # per foot\n",
    "    \"poulets\": 1200,                                       # per whole chicken\n",
    "    \"langue de veau\": 400,                                  # per tongue\n",
    "    \"pilons de poulet\": 200,                                # per drumstick\n",
    "    \"rognon de veau\": 100,                                  # per kidney\n",
    "    \"poireaux\": 150,                                        # per leek\n",
    "    \"lieu noir\": 200,                                        # per fillet\n",
    "    \"blanc de poulet\": 150,                                   # per piece\n",
    "    \"pâte à pizza\": 400,                                       # per dough base\n",
    "    \"veau\": 200,                                               # per portion\n",
    "    \"riz\": 200,                                                # per cup cooked\n",
    "    \"langues de veau\": 400,                                     # per two tongues\n",
    "    \"bouillon de boeuf\": 250,                                    # per carton\n",
    "    \"filet de poulet\": 150,                                       # per fillet\n",
    "    \"rognons de veau\": 100,                                        # per pair\n",
    "    \"lapin entier\": 1200,                                          # per whole rabbit\n",
    "    \"petit os de veau\": 100,                                        # per small os\n",
    "    \"escalope de poulet\": 150,                                      # per escalope\n",
    "    \"yaourts brassés\": 125,                                         # per pot\n",
    "    \"aiguillettes de poulet\": 100,                                   # per portion\n",
    "    \"poulet entier\": 1300,                                           # per whole chicken\n",
    "    \"osso bucco de veau\": 300,                                        # per cut\n",
    "    \"tomates concassées\": 400,                                         # per can\n",
    "    \"râble de lapin\": 250,                                             # per rack\n",
    "    \"pomme de terre\": 150,                                             # per potato\n",
    "    \"yaourts\": 125,                                                    # per pot\n",
    "    \"bananes\": 120,                                                    # per banana\n",
    "    \"tomates confites à l’huile\": 50,                                    # per jar portion\n",
    "    \"coeurs de canard\": 50,                                               # per heart\n",
    "    \"mangue\": 300,                                                        # per mango\n",
    "    \"râbles de lapin\": 250,                                               # per rack\n",
    "    \"boeuf\": 200,                                                         # per portion\n",
    "    \"côtes de veau\": 300,                                                 # per chop\n",
    "    \"jarrets de veau\": 400,                                               # per shank\n",
    "    \"tomates séchées\": 10,                                                # per small portion\n",
    "    \"foie gras de canard du sud-ouest cru surgelé\": 150,                  # per block\n",
    "    \"ris de veau\": 300,                                                   # per portion\n",
    "    \"banane\": 120,                                                        # per banana\n",
    "    \"tomates cerise\": 20,                                                 # per cherry\n",
    "    \"cuisse de canard\": 300,                                              # per leg\n",
    "    \"blanc de poireau\": 50                                                # per section\n",
    "}\n"
   ]
  },
  {
   "cell_type": "code",
   "execution_count": 24,
   "id": "228c876f",
   "metadata": {},
   "outputs": [],
   "source": [
    "spec_ing = add_weights(spec_ing, spec_ing_weights_non_vege)"
   ]
  },
  {
   "cell_type": "code",
   "execution_count": 25,
   "id": "e2f6ed9d",
   "metadata": {},
   "outputs": [
    {
     "data": {
      "text/plain": [
       "1099"
      ]
     },
     "execution_count": 25,
     "metadata": {},
     "output_type": "execute_result"
    }
   ],
   "source": [
    "standalized_recipes = standardize_recipes(filtered_recipes, spec_ing)\n",
    "len(standalized_recipes)"
   ]
  },
  {
   "cell_type": "code",
   "execution_count": 26,
   "id": "baa6e17f",
   "metadata": {},
   "outputs": [
    {
     "data": {
      "text/plain": [
       "[]"
      ]
     },
     "execution_count": 26,
     "metadata": {},
     "output_type": "execute_result"
    }
   ],
   "source": [
    "spec_ing = extract_spec_ingredients(standalized_recipes)\n",
    "spec_ing"
   ]
  },
  {
   "cell_type": "code",
   "execution_count": 27,
   "id": "a322c12e",
   "metadata": {},
   "outputs": [],
   "source": [
    "# Check\n",
    "with open(OUTPUT_FILE, \"w\", encoding=\"utf-8\") as f:\n",
    "    json.dump(standalized_recipes, f, ensure_ascii=False, indent=4)"
   ]
  },
  {
   "cell_type": "markdown",
   "id": "58e20376",
   "metadata": {},
   "source": [
    "## 4.Calculate ECV based on unit and quantity"
   ]
  },
  {
   "cell_type": "code",
   "execution_count": 28,
   "id": "5c231fff",
   "metadata": {},
   "outputs": [
    {
     "data": {
      "text/plain": [
       "1099"
      ]
     },
     "execution_count": 28,
     "metadata": {},
     "output_type": "execute_result"
    }
   ],
   "source": [
    "standalized_recipes = scale_ecv(standalized_recipes)\n",
    "len(standalized_recipes)"
   ]
  },
  {
   "cell_type": "code",
   "execution_count": 29,
   "id": "b92da45d",
   "metadata": {},
   "outputs": [],
   "source": [
    "# Check\n",
    "with open(OUTPUT_FILE, \"w\", encoding=\"utf-8\") as f:\n",
    "    json.dump(standalized_recipes, f, ensure_ascii=False, indent=4)"
   ]
  },
  {
   "cell_type": "markdown",
   "id": "669e8eae",
   "metadata": {},
   "source": [
    "# Same procedure for recipes vegetarian"
   ]
  },
  {
   "cell_type": "code",
   "execution_count": 30,
   "id": "57d40160",
   "metadata": {},
   "outputs": [],
   "source": [
    "RECIPES_FILE = DATA_DIR / \"recipes_vege.json\"\n",
    "OUTPUT_FILE = DATA_DIR / \"recipes_vege_with_ecv.json\""
   ]
  },
  {
   "cell_type": "code",
   "execution_count": 31,
   "id": "0ffdae9b",
   "metadata": {},
   "outputs": [
    {
     "data": {
      "text/plain": [
       "1755"
      ]
     },
     "execution_count": 31,
     "metadata": {},
     "output_type": "execute_result"
    }
   ],
   "source": [
    "with open(RECIPES_FILE, \"r\", encoding=\"utf-8\") as f:\n",
    "    recipes = json.load(f)\n",
    "\n",
    "len(recipes)"
   ]
  },
  {
   "cell_type": "code",
   "execution_count": 32,
   "id": "2907bc08",
   "metadata": {},
   "outputs": [],
   "source": [
    "recipes = convert_recipe_numbers(recipes)"
   ]
  },
  {
   "cell_type": "code",
   "execution_count": 33,
   "id": "ab3d2553",
   "metadata": {},
   "outputs": [],
   "source": [
    "# Check\n",
    "with open(OUTPUT_FILE, \"w\", encoding=\"utf-8\") as f:\n",
    "    json.dump(recipes, f, ensure_ascii=False, indent=4)"
   ]
  },
  {
   "cell_type": "code",
   "execution_count": 34,
   "id": "67c2798c",
   "metadata": {},
   "outputs": [
    {
     "name": "stdout",
     "output_type": "stream",
     "text": [
      "1146\n"
     ]
    }
   ],
   "source": [
    "filtered_recipes = filter_recipes_based_on_ecv(recipes, ecv_dict)\n",
    "print(len(filtered_recipes))"
   ]
  },
  {
   "cell_type": "code",
   "execution_count": 35,
   "id": "2414e136",
   "metadata": {},
   "outputs": [],
   "source": [
    "# Check\n",
    "with open(OUTPUT_FILE, \"w\", encoding=\"utf-8\") as f:\n",
    "    json.dump(filtered_recipes, f, ensure_ascii=False, indent=4)"
   ]
  },
  {
   "cell_type": "code",
   "execution_count": 36,
   "id": "26f70cad",
   "metadata": {},
   "outputs": [
    {
     "name": "stdout",
     "output_type": "stream",
     "text": [
      "1027\n"
     ]
    }
   ],
   "source": [
    "filtered_recipes = filter_recipes(filtered_recipes, ecv_data, is_vege=True)\n",
    "print(len(filtered_recipes))"
   ]
  },
  {
   "cell_type": "code",
   "execution_count": 37,
   "id": "504a34e8",
   "metadata": {},
   "outputs": [],
   "source": [
    "# Check\n",
    "with open(OUTPUT_FILE, \"w\", encoding=\"utf-8\") as f:\n",
    "    json.dump(filtered_recipes, f, ensure_ascii=False, indent=4)"
   ]
  },
  {
   "cell_type": "code",
   "execution_count": 38,
   "id": "761b8a75",
   "metadata": {},
   "outputs": [
    {
     "data": {
      "text/plain": [
       "97"
      ]
     },
     "execution_count": 38,
     "metadata": {},
     "output_type": "execute_result"
    }
   ],
   "source": [
    "# Check unique ingredients in all recipes\n",
    "unique_ing = get_unique_ingredients(filtered_recipes)\n",
    "len(unique_ing)"
   ]
  },
  {
   "cell_type": "code",
   "execution_count": 39,
   "id": "f0667b44",
   "metadata": {},
   "outputs": [],
   "source": [
    "ing_empty_quantity = get_empty_quantity(filtered_recipes)\n",
    "ing_with_quantity = handle_empty_quantity(filtered_recipes, ing_empty_quantity)\n",
    "filtered_recipes = update_recipes_with_quantities(filtered_recipes, ing_with_quantity)"
   ]
  },
  {
   "cell_type": "code",
   "execution_count": 40,
   "id": "07d6a8e3",
   "metadata": {},
   "outputs": [
    {
     "data": {
      "text/plain": [
       "['Peau de banane', 'feuille de riz', 'pâte à pizza']"
      ]
     },
     "execution_count": 40,
     "metadata": {},
     "output_type": "execute_result"
    }
   ],
   "source": [
    "ing_empty_quantity = get_empty_quantity(filtered_recipes)\n",
    "ing_empty_quantity"
   ]
  },
  {
   "cell_type": "code",
   "execution_count": 41,
   "id": "9974c114",
   "metadata": {},
   "outputs": [],
   "source": [
    "spec_ing_with_quantity.update({\n",
    "    'pâte à pizza': (250.0, 'g'),       # typical pizza dough ball weight\n",
    "    'feuille de riz': (50.0, 'g'),      # ~10 rice papers (often sold in 50g packs)\n",
    "    'Peau de banane': (60.0, 'g')       # average peel from one medium banana\n",
    "})"
   ]
  },
  {
   "cell_type": "code",
   "execution_count": 42,
   "id": "3b26f931",
   "metadata": {},
   "outputs": [],
   "source": [
    "filtered_recipes = update_recipes_with_quantities(filtered_recipes, spec_ing_with_quantity)"
   ]
  },
  {
   "cell_type": "code",
   "execution_count": 43,
   "id": "5018062a",
   "metadata": {},
   "outputs": [],
   "source": [
    "# Check\n",
    "with open(OUTPUT_FILE, \"w\", encoding=\"utf-8\") as f:\n",
    "    json.dump(filtered_recipes, f, ensure_ascii=False, indent=4)"
   ]
  },
  {
   "cell_type": "code",
   "execution_count": 44,
   "id": "8afac883",
   "metadata": {},
   "outputs": [
    {
     "data": {
      "text/plain": [
       "1027"
      ]
     },
     "execution_count": 44,
     "metadata": {},
     "output_type": "execute_result"
    }
   ],
   "source": [
    "filtered_recipes = normalize_ingredients(filtered_recipes)\n",
    "len(filtered_recipes)"
   ]
  },
  {
   "cell_type": "code",
   "execution_count": 45,
   "id": "cc409102",
   "metadata": {},
   "outputs": [],
   "source": [
    "# Check\n",
    "with open(OUTPUT_FILE, \"w\", encoding=\"utf-8\") as f:\n",
    "    json.dump(filtered_recipes, f, ensure_ascii=False, indent=4)"
   ]
  },
  {
   "cell_type": "code",
   "execution_count": 46,
   "id": "51ce8ebf",
   "metadata": {},
   "outputs": [
    {
     "data": {
      "text/plain": [
       "990"
      ]
     },
     "execution_count": 46,
     "metadata": {},
     "output_type": "execute_result"
    }
   ],
   "source": [
    "# filter non vege\n",
    "filtered_recipes = filter_recipes(filtered_recipes, ecv_data, is_vege=True)\n",
    "len(filtered_recipes)"
   ]
  },
  {
   "cell_type": "code",
   "execution_count": 47,
   "id": "281b9a3f",
   "metadata": {},
   "outputs": [],
   "source": [
    "# Check\n",
    "with open(OUTPUT_FILE, \"w\", encoding=\"utf-8\") as f:\n",
    "    json.dump(filtered_recipes, f, ensure_ascii=False, indent=4)"
   ]
  },
  {
   "cell_type": "code",
   "execution_count": 48,
   "id": "663bddd4",
   "metadata": {},
   "outputs": [
    {
     "data": {
      "text/plain": [
       "94"
      ]
     },
     "execution_count": 48,
     "metadata": {},
     "output_type": "execute_result"
    }
   ],
   "source": [
    "# Check unique ingredients in all recipes\n",
    "unique_ing = get_unique_ingredients(filtered_recipes)\n",
    "len(unique_ing)"
   ]
  },
  {
   "cell_type": "code",
   "execution_count": 49,
   "id": "8c7f6821",
   "metadata": {},
   "outputs": [
    {
     "name": "stdout",
     "output_type": "stream",
     "text": [
      "Total spec ingredients: 55\n"
     ]
    }
   ],
   "source": [
    "spec_ing = extract_spec_ingredients(filtered_recipes)\n",
    "print(f\"Total spec ingredients: {len(spec_ing)}\")"
   ]
  },
  {
   "cell_type": "code",
   "execution_count": 50,
   "id": "4d05e53a",
   "metadata": {},
   "outputs": [],
   "source": [
    "spec_ing_weights_vege = {\n",
    "    \"tomates\": 100,                               # per tomato\n",
    "    \"courgettes\": 200,                             # per zucchini\n",
    "    \"poireau\": 150,                                # per leek\n",
    "    \"carottes\": 70,                                # per carrot\n",
    "    \"pommes de terre\": 150,                        # per potato\n",
    "    \"oeuf\": 60,                                    # per egg\n",
    "    \"carotte\": 70,                                 # per carrot\n",
    "    \"tomate\": 100,                                 # per tomato\n",
    "    \"courgette\": 200,                              # per zucchini\n",
    "    \"oeufs\": 60,                                   # per egg\n",
    "    \"bananes\": 120,                                # per banana\n",
    "    \"poireaux\": 150,                               # per leek\n",
    "    \"pomme de terre\": 150,                         # per potato\n",
    "    \"pâte à pizza\": 400,                           # per dough base\n",
    "    \"pommes\": 150,                                 # per apple\n",
    "    \"avocat\": 200,                                 # per avocado\n",
    "    \"tomates séchées à l'huile d'olive\": 10,       # per small portion\n",
    "    \"feuilles de riz\": 10,                         # per sheet\n",
    "    \"banane\": 120,                                 # per banana\n",
    "    \"jaunes d'oeuf\": 18,                           # per yolk\n",
    "    \"baguette\": 250,                               # per loaf\n",
    "    \"yaourt à la grecque\": 150,                    # per pot\n",
    "    \"sauce tomate\": 400,                            # per jar\n",
    "    \"jaune d'oeuf\": 18,                            # per yolk\n",
    "    \"tomates cerise\": 20,                           # per cherry\n",
    "    \"tomates séchées\": 10,                          # per small portion\n",
    "    \"yaourts natures\": 125,                         # per pot\n",
    "    \"blette\": 200,                                 # per bunch\n",
    "    \"peau de banane\": 50,                           # per banana\n",
    "    \"mangues\": 300,                                # per mango\n",
    "    \"pomme\": 150,                                  # per apple\n",
    "    \"yaourt bulgare\": 125,                          # per pot\n",
    "    \"galettes de riz\": 10,                          # per rice cake\n",
    "    \"blancs d'oeuf\": 30,                            # per egg white\n",
    "    \"avocats\": 200,                                # per avocado\n",
    "    \"yaourt nature\": 125,                            # per pot\n",
    "    \"double concentré de tomates\": 50,             # per tube\n",
    "    \"sirop d'érable\": 20,                           # per tablespoon\n",
    "    \"beurre tendre\": 10,                             # per pat\n",
    "    \"potiron\": 400,                                 # per small pumpkin portion\n",
    "    \"tofu\": 200,                                     # per block\n",
    "    \"mangue\": 300,                                  # per mango\n",
    "    \"beurre\": 30,                                   # per pat\n",
    "    \"carotte pourpre\": 70,                           # per carrot\n",
    "    \"vermicelles de riz\": 80,                        # per 100g dry\n",
    "    \"yaourt\": 125,                                   # per pot\n",
    "    \"blanc d'oeuf\": 30,                              # per egg white\n",
    "    \"yaourt brassé\": 125,                             # per pot\n",
    "    \"tomates pelées\": 400,                             # per can\n",
    "    \"blanc de poireau\": 50,                             # per section\n",
    "    \"laitue\": 200,                                     # per head\n",
    "    \"yaourts\": 125,                                     # per pot\n",
    "    \"petits beurre\": 10,                                # per cookie\n",
    "    \"yaourts brassés\": 125,                              # per pot\n",
    "    \"beurre allégé\": 10,                                 # per pat\n",
    "    \"beurre demi-sel\": 10,                               # per pat\n",
    "    \"purée de tomate\": 400                              # per can\n",
    "}\n"
   ]
  },
  {
   "cell_type": "code",
   "execution_count": 51,
   "id": "05e14702",
   "metadata": {},
   "outputs": [],
   "source": [
    "spec_ing = add_weights(spec_ing, spec_ing_weights_vege)"
   ]
  },
  {
   "cell_type": "code",
   "execution_count": 52,
   "id": "9cd57445",
   "metadata": {},
   "outputs": [
    {
     "data": {
      "text/plain": [
       "990"
      ]
     },
     "execution_count": 52,
     "metadata": {},
     "output_type": "execute_result"
    }
   ],
   "source": [
    "standalized_recipes = standardize_recipes(filtered_recipes, spec_ing)\n",
    "len(standalized_recipes)"
   ]
  },
  {
   "cell_type": "code",
   "execution_count": 53,
   "id": "fb0168b1",
   "metadata": {},
   "outputs": [
    {
     "data": {
      "text/plain": [
       "[{'ingredient_name': \"jaune d'oeuf\",\n",
       "  'quantity': 9.0,\n",
       "  'recipes': ['TARTE AU CHOCOLAT ET AMANDES GRILLEES PAR ZAKOO44 (végétarien)',\n",
       "   'Soupe anatolienne végétarienne au yaourt et à la menthe (soupe yayla)',\n",
       "   'Tourte aux blettes légère et gourmande',\n",
       "   'Tarte au sucre du Nord (briochée)',\n",
       "   'Brookies à partager',\n",
       "   'Tarte abricots miel et lavande',\n",
       "   'Fondant léger au chocolat',\n",
       "   'Tarte aux fraises légère',\n",
       "   'Pâte sablée maison légère',\n",
       "   'Tarte légère au fromage blanc',\n",
       "   'Petits gratins de champignons crème légère au foie gras',\n",
       "   'Salade légère crevettes et oranges',\n",
       "   'Sablé breton, crème légère vanille et rhubarbe pochée par Johanna Le Pape',\n",
       "   'Mayonnaise légère à ma façon',\n",
       "   'Sauce hollandaise légère',\n",
       "   'Tarte au chèvre et épices légère',\n",
       "   'Mayonnaise légère au curry',\n",
       "   'Petits pains légers sans pétrissage',\n",
       "   'Millefeuille léger aux fraises et au mascarpone']}]"
      ]
     },
     "execution_count": 53,
     "metadata": {},
     "output_type": "execute_result"
    }
   ],
   "source": [
    "spec_ing = extract_spec_ingredients(standalized_recipes)\n",
    "spec_ing"
   ]
  },
  {
   "cell_type": "code",
   "execution_count": 54,
   "id": "b2eba9d2",
   "metadata": {},
   "outputs": [],
   "source": [
    "standalized_recipes = scale_ecv(standalized_recipes)"
   ]
  },
  {
   "cell_type": "code",
   "execution_count": 55,
   "id": "03723bc8",
   "metadata": {},
   "outputs": [],
   "source": [
    "# Check\n",
    "with open(OUTPUT_FILE, \"w\", encoding=\"utf-8\") as f:\n",
    "    json.dump(standalized_recipes, f, ensure_ascii=False, indent=4)"
   ]
  }
 ],
 "metadata": {
  "kernelspec": {
   "display_name": "venv",
   "language": "python",
   "name": "python3"
  },
  "language_info": {
   "codemirror_mode": {
    "name": "ipython",
    "version": 3
   },
   "file_extension": ".py",
   "mimetype": "text/x-python",
   "name": "python",
   "nbconvert_exporter": "python",
   "pygments_lexer": "ipython3",
   "version": "3.13.4"
  }
 },
 "nbformat": 4,
 "nbformat_minor": 5
}
